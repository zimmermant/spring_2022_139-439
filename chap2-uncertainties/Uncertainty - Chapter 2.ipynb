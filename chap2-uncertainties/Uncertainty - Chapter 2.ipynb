{
 "cells": [
  {
   "cell_type": "markdown",
   "metadata": {},
   "source": [
    "# 2 Measurement: basic concepts\n",
    "\n",
    "We will now begin to develop procedures for making and recording scientific measurements. For this we need some mathematical tools which we will discuss in this and the following chapters. The first concept that we need is that of probability after which we will look at what it means to read both digital and analogue scales.\n",
    "\n",
    "## 2.1 Probability\n",
    "\n",
    "You can think of probability as the chance that an event will occur.\n",
    "\n",
    "Probability is usually expressed as a number between 0 and 1 (inclusive).\n",
    "\n",
    "A probability of 1 means that you are 100 % sure that the event will occur.\n",
    "\n",
    "A probability of 0 means that you are 100 % sure that the event will not occur.\n",
    "\n",
    "For example, say that you have a black bag which contains 4 different coloured balls (red, green, blue and yellow). Without looking into the bag you wonder what the probability is of choosing the green ball from the bag.\n",
    "\n",
    "Clearly the **probability** of choosing the green ball is one in four, or 0.25, or 25 %.\n",
    "\n",
    "<img src=\"C2-Fig1.png\" style=\"width: 600px;\"/>\n",
    "\n",
    "Say that you have 10 pairs of socks, each pair having a different pattern. However, they are all loose in a box under your bed. You need a matching pair and grab a single sock. As you put you hand into the box to grab a second sock, you wonder what is the probability of choosing the matching sock.  Double-click the cell below to enter your answer."
   ]
  },
  {
   "cell_type": "markdown",
   "metadata": {},
   "source": [
    "Probability of grabbing the matching sock = ______________"
   ]
  },
  {
   "cell_type": "markdown",
   "metadata": {},
   "source": []
  },
  {
   "cell_type": "markdown",
   "metadata": {},
   "source": [
    "# 2.2 Reading a digital scale\n",
    "\n",
    "Say that you are given an old, worn block of metal that is marked 84 g.\n",
    "\n",
    "<img src=\"C2-Fig2.png\" style=\"width: 600px;\"/>\n",
    "\n",
    "If you are not allowed to weigh the block, how certain will you be that the mass of the block is really 84 g ? Within which of the following ranges is it most likely for the mass to be: 83.95g–84.05g, 83.5g-84.5g, 83.0g-85.0g, 80.0g-90.0g? Explain."
   ]
  },
  {
   "cell_type": "markdown",
   "metadata": {},
   "source": []
  },
  {
   "cell_type": "markdown",
   "metadata": {},
   "source": [
    "\n",
    "Say now that the physics professor comes along and gives you a new shiny block that is also marked 84 g. Discuss within which of the following ranges is it most likely for the mass to be: 83.95g–84.05g, 83.5g-84.5g, 83.0g-85.0g, 80.0g-90.0g? Explain."
   ]
  },
  {
   "cell_type": "markdown",
   "metadata": {},
   "source": []
  },
  {
   "cell_type": "markdown",
   "metadata": {},
   "source": [
    "You now take a digital balance that is set to display one digit after the decimal point (in grams). You put the block on the balance and look at the display.\n",
    "\n",
    "<img src=\"C2-Fig3.png\" style=\"width: 600px;\"/>\n",
    "\n",
    "\n",
    "You will probably agree that it is reasonable to record the reading as 83.4 g .\n",
    "\n",
    "You now set sensitivity of the digital balance to display two digits after the decimal point (in grams). This means that the balance is displaying readings to the nearest 0.01 g or one hundredth of a gram.\n",
    "\n",
    "It is clear that the second digit after the decimal point will either be a 0 or 1 or 2 or 3 or 4 or 5 or 6 or 7 or 8 or 9.\n",
    "\n",
    "Without scrolling down the page, can you <u>predict</u> for sure what the display will show as the last digit? Of course not.\n",
    "\n",
    "However, can you say what the <u>probability</u> is of the last digit being a 6 ?"
   ]
  },
  {
   "cell_type": "markdown",
   "metadata": {},
   "source": []
  },
  {
   "cell_type": "markdown",
   "metadata": {},
   "source": [
    "---\n",
    "\n",
    "Keep scrolling after you've made you prediction - don't spoil the surprise.\n",
    "\n",
    ".\n",
    "\n",
    ".\n",
    "\n",
    ".\n",
    "\n",
    ".\n",
    "\n",
    ".\n",
    "\n",
    ".\n",
    "\n",
    ".\n",
    "\n",
    ".\n",
    "\n",
    ".\n",
    "\n",
    ".\n",
    "\n",
    ".\n",
    "\n",
    ".\n",
    "\n",
    ".\n",
    "\n",
    ".\n",
    "\n",
    ".\n",
    "\n",
    ".\n",
    "\n",
    ".\n",
    "\n",
    ".\n",
    "\n",
    ".\n",
    "\n",
    ".\n",
    "\n"
   ]
  },
  {
   "cell_type": "markdown",
   "metadata": {},
   "source": [
    "<img src=\"C2-Fig4.png\" style=\"width: 600px;\"/>\n",
    "\n",
    "Before you looked at the display, there was no way of predicting with a greater certainty than 10% that the last digit would be a 6.\n",
    "\n",
    "You now see the following on the display.\n",
    "\n",
    "<img src=\"C2-Fig5.png\" style=\"width: 600px;\"/>\n",
    "\n",
    "Double-click the cell below to enter your answer."
   ]
  },
  {
   "cell_type": "markdown",
   "metadata": {},
   "source": [
    "What will you now record as the reading on the display ? ______________________"
   ]
  },
  {
   "cell_type": "markdown",
   "metadata": {},
   "source": [
    "We now set the digital balance to display three digits after the decimal point (in grams) i.e. the balance will now display the reading to the nearest 0.001 g.\n",
    "\n",
    "<img src=\"C2-Fig6.png\" style=\"width: 600px;\"/>\n",
    "\n"
   ]
  },
  {
   "cell_type": "markdown",
   "metadata": {},
   "source": [
    "What will you now record as the reading on the display ? ______________"
   ]
  },
  {
   "cell_type": "markdown",
   "metadata": {},
   "source": [
    "We are now at the end of the range of the display of the digital balance. What can we do if we want a reading with more decimal places ?"
   ]
  },
  {
   "cell_type": "markdown",
   "metadata": {},
   "source": []
  },
  {
   "cell_type": "markdown",
   "metadata": {},
   "source": [
    "Would it be possible to design and build an electronic balance that could display a reading with an **infinite** number of decimal places ? Explain your answer."
   ]
  },
  {
   "cell_type": "markdown",
   "metadata": {},
   "source": []
  },
  {
   "cell_type": "markdown",
   "metadata": {},
   "source": [
    "Let us now consider what we know about the mass of the block in each case, **based only on the reading on the digital balance**.\n",
    "\n",
    "<img src=\"C2-Fig7.png\" style=\"width: 600px;\"/>\n",
    "\n",
    "In each case above, we can say that that the mass of the block lies somewhere on an <u>interval</u>, the width of which reduces in size as the sensitivity of the electronic balance increases.\n",
    "\n",
    "<img src=\"C2-Fig8.png\" style=\"width: 600px;\"/>\n",
    "\n",
    "Which one of the three readings above would you regard as the “best” and why?"
   ]
  },
  {
   "cell_type": "markdown",
   "metadata": {},
   "source": []
  },
  {
   "cell_type": "markdown",
   "metadata": {},
   "source": [
    "# 2.3 Reading an analogue scale\n",
    "\n",
    " We can use an analogue balance instead of a digital balance to measure the mass of the block. (An analogue balance will have a needle that is displaced in proportion to the weight of the object placed on the balance.) We now need to use our judgement to read the scale after the needle has come to rest.\n",
    " \n",
    "Let us imagine that when we put the mass on the balance, we see the following on the display:\n",
    "\n",
    "<img src=\"C2-Fig9.png\" style=\"width: 600px;\"/>"
   ]
  },
  {
   "cell_type": "markdown",
   "metadata": {},
   "source": [
    "Write down the reading on the scale: ________________________"
   ]
  },
  {
   "cell_type": "markdown",
   "metadata": {},
   "source": [
    "How certain are you about this reading (“very certain”, “reasonably certain” or “not very certain”) ? Explain your answer."
   ]
  },
  {
   "cell_type": "markdown",
   "metadata": {},
   "source": []
  },
  {
   "cell_type": "markdown",
   "metadata": {},
   "source": [
    "Check with your friends. Did you all record the same value ? If not, why not ?"
   ]
  },
  {
   "cell_type": "markdown",
   "metadata": {},
   "source": []
  },
  {
   "cell_type": "markdown",
   "metadata": {},
   "source": [
    "You might have thought that the reading was “between 80 g and 90 g.” However, it is possible to use your judgement and record the reading to the nearest gram."
   ]
  },
  {
   "cell_type": "markdown",
   "metadata": {},
   "source": [
    "Try it again. Enter the reading on the scale = __________ (to the nearest gram)"
   ]
  },
  {
   "cell_type": "markdown",
   "metadata": {},
   "source": []
  },
  {
   "cell_type": "markdown",
   "metadata": {},
   "source": [
    "You now decide, in order to improve your measurement, to choose a scale that has markings (called “graduations”) every 1 gram. You now observe the following on the display:\n",
    "    \n",
    "<img src=\"C2-Fig10.png\" style=\"width: 600px;\"/>"
   ]
  },
  {
   "cell_type": "markdown",
   "metadata": {},
   "source": [
    "The reading on the scale is : ________________________\n",
    "\n",
    "You can now make a judgement to the nearest 0.1 gram."
   ]
  },
  {
   "cell_type": "markdown",
   "metadata": {},
   "source": [
    "If you want to subdivide each graduation even further, you now have a division marker every 0.1 g. You might need a magnifying glass to read the scale !\n",
    "\n",
    "<img src=\"C2-Fig11.png\" style=\"width: 600px;\"/>"
   ]
  },
  {
   "cell_type": "markdown",
   "metadata": {},
   "source": [
    "The reading on the scale is : ________________________"
   ]
  },
  {
   "cell_type": "markdown",
   "metadata": {},
   "source": [
    "<img src=\"C2-Fig12.png\" style=\"width: 600px;\"/>\n",
    "\n",
    "Will you ever be able to find an instrument that gives you a reading of the mass of the block to an infinite number of decimal places? No, of course not. It will never be possible to manufacture such an instrument ! It is then clear that the “true” value of the mass can never be known. This is the case for all measurements, no matter what you are wanting to measure.\n",
    "\n",
    "Let us now once again consider what can we know about the mass of the block in each case, <u>if all we have is the reading on the analogue scale</u>.\n",
    "\n",
    "<img src=\"C2-Fig13.png\" style=\"width: 600px;\"/>\n",
    "\n",
    "Enter the values below:"
   ]
  },
  {
   "cell_type": "markdown",
   "metadata": {},
   "source": [
    "1. The mass of the block lies between _____ g and ______ g.\n",
    "\n",
    "2. The mass of the block lies between _____ g and ______ g.\n",
    "\n",
    "3. The mass of the block lies between _____ g and ______ g."
   ]
  },
  {
   "cell_type": "markdown",
   "metadata": {},
   "source": [
    "Once again, in each case above, we can say that that the mass of the block lies somewhere on an interval, the width of which reduces in size with more markings on the scale. It is important to note that when you decided upon the left and right hand of the intervals in the table above, you could do better than simply taking the nearest markings on the scale in each case. For example, in the first case above, although it is a true statement to say that “The mass of the block lies between 80 g and 90 g”, you can do much better that that.\n",
    "\n",
    "You might think that the best reading of the mass in the first case is 83 g. Then you should ask yourself, “what are the closest values to the best reading that you think are definitely <u>not</u> possible?” You might therefore decide that the reading is probably not less than 82 g and probably not more than 84 g, and therefore infer that the mass of the block lies between 82 g and 84 g.\n",
    "\n",
    "Go back and change your answers above if you need to.\n",
    "\n",
    "Also note that since there is a degree of judgement involved in each case, your friends might have come up with slightly different readings and intervals to yours.\n",
    "\n",
    "---\n",
    "\n",
    "## 2.4 Measurement and uncertainty\n",
    "\n",
    " The broad aim of performing measurements in science is to increase our knowledge about some physical quantity which is referred to as the **measurand**. For example, a measurand may be the length of a box, the vapour pressure of a given sample of water at 20 °C, or the speed of light in some medium. The first thing that you, as the measurer, have to do is to specify the measurand. You need to ask yourself, “What do I want to measure? The next step is to think about what you already know about the measurand and to choose an appropriate **measurement procedure** and **apparatus** for making the measurement. Clearly the purpose of the measurement also plays a role.\n",
    " \n",
    "We should not think about the measurand as possessing some “true value” that has to be uncovered but rather that the value of the measurand is based on the amount of information we have at hand. If you really wanted to know the ultimate or true value of the measurand you will need an infinite amount of information !\n",
    "\n",
    "Thus, the information we have about a measurand can be never 100% complete. For example, we saw earlier that whether we are dealing with a digital or an analogue instrument, the information about the measurand from the reading is in fact an <u>interval</u> which cannot be reduced to a point. So, even there are no other factors influencing the measurement the scale would limit what we know and **the final result of a measurement will always be an interval**. However, as we saw at the end of Chapter 1 there are usually several factors that will influence the measurement. Each of these factors makes the interval associated with the final result bigger. We call this interval the uncertainty. Thus, the larger the uncertainty the less we know and the more we know the smaller the uncertainty. When designing an experiment the aim is try and make the uncertainty as small as possible, but with knowledge that the uncertainty interval cannot be reduced to zero. We will learn how to calculate uncertainties in the next chapter1. (Uncertainty is a technical term so <u>do not confuse</u> it with everyday usuage, such “I am uncertain whether I should go to the party tonight!)”\n",
    "\n",
    "<img src=\"C2-Fig14.png\" style=\"width: 600px;\"/>\n",
    "\n",
    "\n",
    "---\n",
    "1 Many books and notes use the term “error” or “error analysis” when describing experiments. For example, it is common to see discussion about “random” and “systematic errors”. We will not use any of these terms and only use the term uncertainty which is well defined. If you do have to learn the older type of data analysis in another course take great care to distinguish between the terms “error” and “uncertainty .” They are not synonyms, but represent completely different concepts. “Error” is an idealized concept that denotes the difference between the measured value and “a true value” of that quantity. Since the “true value” is never known, neither is the error. Uncertainty on the other hand is a well defined term that can be calculated meaningfully as you will see later on.\n",
    "\n",
    "---\n",
    "\n",
    "One of the goals of measurement is to try and minimise the uncertainty when we perform an experiment. This can be achieved by good experimental design as well as by collecting as much data as possible. At the end of Chapter 1 you were asked to write down all the factors that could influence the result of your measurement. Each of these factors can be thought of as working against our having perfect knowledge about a measurand and adds to the overall uncertainty. A crucial aspect of experimentation is to identify all such sources of\n",
    "uncertainty and to numerically estimate their effect on your measurement result. Common sources of uncertainty include:\n",
    "\n",
    "(a) the effects of environmental conditions on the measurement; (b) your judgement in reading analogue instruments;\n",
    "\n",
    "(c) the sensitivity of your instruments (e.g. the digital scale);\n",
    "\n",
    "(d) the rating or stated calibration of the instrument;\n",
    "\n",
    "(e) approximations and assumptions that you make while doing the experiment; and (f) variations in repeated readings made under apparently identical conditions.\n",
    "A measurement uncertainty is not meant to be an indication of “mistakes” that you might make in an experiment. If you are aware that you have made a mistake, then you should repeat your experiment. “Human error” is not a valid source of uncertainty. If you know that you did something “wrong”, then why don’t you do it correctly?"
   ]
  },
  {
   "cell_type": "code",
   "execution_count": null,
   "metadata": {},
   "outputs": [],
   "source": []
  }
 ],
 "metadata": {
  "kernelspec": {
   "display_name": "Python 3",
   "language": "python",
   "name": "python3"
  },
  "language_info": {
   "codemirror_mode": {
    "name": "ipython",
    "version": 3
   },
   "file_extension": ".py",
   "mimetype": "text/x-python",
   "name": "python",
   "nbconvert_exporter": "python",
   "pygments_lexer": "ipython3",
   "version": "3.7.4"
  }
 },
 "nbformat": 4,
 "nbformat_minor": 2
}
