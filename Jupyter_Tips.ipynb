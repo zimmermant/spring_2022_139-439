{
 "cells": [
  {
   "cell_type": "markdown",
   "metadata": {},
   "source": [
    "You can access the command palette in regular Jupyter notebooks by <kbd>Shift</kbd>+<kbd>Cmd</kbd>+<kbd>P</kbd>.\n",
    "\n",
    "In JupyterLab you can access the command palette by hitting <kbd>Shift</kbd>+<kbd>Cmd</kbd>+<kbd>C</kbd>.  I'm not sure why there is a difference.\n",
    "\n",
    "\n",
    "\n",
    "\n"
   ]
  },
  {
   "cell_type": "markdown",
   "metadata": {},
   "source": [
    "Hitting <kbd>Esc</kbd> takes you into command mode where you can perform navigate from cell-to-cell and edit cell properties.  <kbd>Enter</kbd> takes you back into edit mode.  This is similar to the two modes in vim.\n",
    "\n",
    "Hit <kbd>A</kbd> to insert a cell **A**bove the current cell and <kbd>B</kbd> to add a cell **B**elow the current cell.\n",
    "\n",
    "<kbd>M</kbd> and <kbd>Y</kbd> will convert a cell between **M**arkdown and code.\n",
    "\n",
    "<kbd>DD</kbd> will delete the current cell, similar to vim."
   ]
  },
  {
   "cell_type": "code",
   "execution_count": null,
   "metadata": {},
   "outputs": [],
   "source": []
  }
 ],
 "metadata": {
  "kernelspec": {
   "display_name": "Python 3",
   "language": "python",
   "name": "python3"
  },
  "language_info": {
   "codemirror_mode": {
    "name": "ipython",
    "version": 3
   },
   "file_extension": ".py",
   "mimetype": "text/x-python",
   "name": "python",
   "nbconvert_exporter": "python",
   "pygments_lexer": "ipython3",
   "version": "3.7.4"
  }
 },
 "nbformat": 4,
 "nbformat_minor": 2
}
