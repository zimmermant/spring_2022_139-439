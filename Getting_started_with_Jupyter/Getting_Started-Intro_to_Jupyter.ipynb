{
 "cells": [
  {
   "cell_type": "markdown",
   "metadata": {},
   "source": [
    "# Python Philosophy\n",
    "\n",
    "- **Beautiful is better than ugly.**\n",
    "- **Explicit is better than implicit.**\n",
    "- **Simple is better than complex.**\n",
    "- Complex is better than complicated.\n",
    "- Flat is better than nested.\n",
    "- Sparse is better than dense.\n",
    "- **Readability counts.**\n",
    "- Special cases aren't special enough to break the rules.\n",
    "- Although practicality beats purity.\n",
    "- Errors should never pass silently.\n",
    "- Unless explicitly silenced.\n",
    "- In the face of ambiguity, refuse the temptation to guess.\n",
    "- There should be one—and preferably only one—obvious way to do it.\n",
    "- Although that way may not be obvious at first unless you're Dutch.\n",
    "- Now is better than never.\n",
    "- Although never is often better than right now.[n 1]\n",
    "- If the implementation is hard to explain, it's a bad idea.\n",
    "- If the implementation is easy to explain, it may be a good idea.\n",
    "- Namespaces are one honking great idea—let's do more of those!\n",
    "\n",
    "---\n",
    "\n",
    "# Distributions\n",
    "\n",
    "A distribution is an easy way to install Python along with many useful packages\n",
    "\n",
    "## Anaconda\n",
    "\n",
    "One of the easiest distributions to use is Anaconda.  It includes many commonly used packages such as `numpy`, `scipy`, and `jupyter`.  You can download it at https://www.anaconda.com/download/.  If you've installed Anaconda you should have Jupyter installed and ready to run\n",
    "\n",
    "## Enthought\n",
    "\n",
    "Another commonly used distribution which can be downloaded at https://store.enthought.com/downloads/\n",
    "\n",
    "## Pythonxy\n",
    "\n",
    "A distribution focused on scientific computing.  It only includes Python 2.7 and not Python 3.7.  You can find it at https://python-xy.github.io/downloads.html\n",
    "\n",
    "We are going to use the Anaconda distribution but you should be aware of the others.\n",
    "\n",
    "---"
   ]
  },
  {
   "cell_type": "markdown",
   "metadata": {},
   "source": [
    "\n",
    "# Getting Jupyter Started\n",
    "\n",
    "Go to the terminal (command prompt) in the folder where you have your notebook files located.\n",
    "- On Windows:\n",
    "    - Navigate to desired folder in file browser\n",
    "    - Shift+Right Click on folder and select `Open command window here`\n",
    "- On Mac:\n",
    "    - Launch terminal\n",
    "    - Navigate to desired folder using change directory command (cd)\n",
    "\n",
    "Type `jupyter lab` at the command prompt.  If Jupyter can't be found, see below.\n",
    "\n",
    "**IMPORTANT NOTE:** You must leave the terminal window open while using Jupyter Lab.  You are running a local server in the termial and closing it will close Jupyter.  To shut down the server you can either close the terminal window or hit <kbd>Ctrl</kbd>+<kbd>C</kbd> while in the terminal window.\n",
    "\n",
    "\n",
    "## If Jupyter Won't Run...\n",
    "\n",
    "At the command line type `conda install jupyter lab`, after which you should be able to start the Jupyter server by typing `jupyter lab` at the command prompt.\n",
    "\n",
    "You can only access files in the current directory and subdirectory so be sure to start in the proper folder.  This is for security purposed.\n",
    "\n",
    "---"
   ]
  },
  {
   "cell_type": "markdown",
   "metadata": {},
   "source": [
    "\n",
    "\n",
    "# JupyterLab vs. Jupyter Notebook\n",
    "\n",
    "I keep reading about JupyterLab and Jupyter Notebooks and they sound like separate things.  What is the difference?  Well, JupyterLab contains Jupyter Notebooks within it but it has many other features beyond just the notebook. \n",
    "\n",
    "JupyterLab is an interactive development environment for working with notebooks, code and data. Most importantly, JupyterLab has full support for Jupyter notebooks. Additionally, JupyterLab enables you to use text editors, terminals, data file viewers, and other custom components side by side with notebooks in a tabbed work area.\n",
    "\n",
    "![JupyterLab_Demo](jupyter_lab_example.png)\n",
    "\n",
    "The Jupyter Notebook is an interactive environment for writing and running code. The notebook is capable of running code in a wide range of languages. However, each notebook is associated with a single kernel.\n",
    "\n",
    "In addition to being used for writing and running code, Jupyter Notebook is used to document and share information and data.  Data scientists, machine learning experts, and scientists across all disciplines are using these for keeping track of and sharing their data.\n",
    "\n",
    "\n",
    "![Jupyter_Notebook](jupyterpreview.png)\n",
    "\n",
    "---\n"
   ]
  },
  {
   "cell_type": "markdown",
   "metadata": {},
   "source": [
    "# Getting Started with Jupyter\n",
    "\n",
    "Jupyter was designed with the cell-based interface of Mathematica in mind.  There are two types of cells (that are relevant to us):\n",
    "- Code\n",
    "- Markdown\n",
    "\n",
    "(The `Raw` cell-type isn't relevant)\n",
    "\n",
    "You can change the type of a cell by putting the cursor in the cell and changing the type in the dropdown box in the toolbar\n",
    "![Toolbar](jupyter_toolbar.png)\n",
    "\n",
    "Code cells are used to execute Python code while Markdown cells are used to display text using Markdown, which is a bare-bones version of HTML.  You can find a list of the formatting commands for Markdown [here](https://daringfireball.net/projects/markdown/syntax).  This cell here is an example of a Markdown cell.  If you double-click on this cell you can see the raw Markdown code.  The rerender the text, hit <kbd>Shift</kbd>+<kbd>Enter</kbd> while your cursor is in this cell."
   ]
  },
  {
   "cell_type": "markdown",
   "metadata": {},
   "source": [
    "### Code cells allow you to enter and run code\n",
    "You run code by holding <kbd>Shift</kbd> + <kbd>Enter</kbd>.  Just hitting the <kbd>Enter</kbd> key by itself only shifts the cursor down one line without executing anything.\n",
    "\n",
    "Try this with the python code below.  Put your cursor in the cell below and hit <kbd>Shift</kbd> + <kbd>Enter</kbd>"
   ]
  },
  {
   "cell_type": "code",
   "execution_count": null,
   "metadata": {},
   "outputs": [],
   "source": [
    "a = 6\n",
    "b = 2\n",
    "c = a+b\n",
    "print(c)"
   ]
  },
  {
   "cell_type": "markdown",
   "metadata": {},
   "source": [
    "### Previous code is remembered\n",
    "\n",
    "In the blank cell below, print the values for `a` and `b`.  It should print out `6` for `a` and `2` for `b`.  Once a cell has been run, all defined variables will be remembered until you reset the kernel (covered later) or redefine the variable."
   ]
  },
  {
   "cell_type": "code",
   "execution_count": null,
   "metadata": {},
   "outputs": [],
   "source": []
  },
  {
   "cell_type": "markdown",
   "metadata": {},
   "source": [
    "### Code is run *on-demand*, not automatically\n",
    "\n",
    "When you open a notebook it may have cells populated with code.  However, until you run a cell by hitting <kbd>Shift</kbd> + <kbd>Enter</kbd> the Python kernel will not know anything about the code.\n",
    "\n",
    "Try running the cell immediately below this one first.  You will get an error message that `d` and `D` are not defined.\n",
    "\n",
    "Next, run the cell below that one to define the two values, then come back and run the cell below\n",
    " "
   ]
  },
  {
   "cell_type": "code",
   "execution_count": null,
   "metadata": {},
   "outputs": [],
   "source": [
    "print(d)\n",
    "print(D)\n",
    "print(d**D)"
   ]
  },
  {
   "cell_type": "code",
   "execution_count": null,
   "metadata": {},
   "outputs": [],
   "source": [
    "d = 10\n",
    "D = 2\n"
   ]
  },
  {
   "cell_type": "markdown",
   "metadata": {},
   "source": [
    "### Cells can be run in any order and can be rerun at any time\n",
    "\n",
    "The location of a cell does not determine the order in which the run, only the order in which you run them by hitting <kbd>Shift</kbd> + <kbd>Enter</kbd> matters.\n",
    "\n",
    "Go to the cell where `d` and `D` are defined, change those numbers, and run the cell.  Then go to the cell above that and run that cell again.  The new numbers should be printed out.\n",
    "\n",
    "To tell if a cell has been run or not, look at the square brackets to the left of each cell.  If the cell has been run, a number should appear between the brackets (e.g. `[7]:`).  If there is no number then the cell hasn't been run.\n",
    "\n",
    "---"
   ]
  },
  {
   "cell_type": "markdown",
   "metadata": {},
   "source": [
    "### Hello World\n",
    "\n",
    "Run the cell below to see some of the other aspects of Python in action\n"
   ]
  },
  {
   "cell_type": "code",
   "execution_count": null,
   "metadata": {},
   "outputs": [],
   "source": [
    "print(\"The usual 'hello world'\")\n",
    "print(3+4*2)\n",
    "print(\"To raise a number to a power in Python use ** rather than ^ so 5^2 is actually 5**2=\", 5**2)\n",
    "for i in range(0,10):\n",
    "    print(\"My favorite number is \", i)"
   ]
  },
  {
   "cell_type": "markdown",
   "metadata": {},
   "source": [
    "## For you to try:\n",
    "\n",
    "Write a short script that squares and prints off the numbers from 0 to 15 in the cell below using a `for` loop.\n",
    "\n",
    "**Note:  When in doubt, copy working code to get started.**"
   ]
  },
  {
   "cell_type": "code",
   "execution_count": null,
   "metadata": {},
   "outputs": [],
   "source": []
  },
  {
   "cell_type": "markdown",
   "metadata": {},
   "source": [
    "---\n",
    "\n",
    "### A *comment* is a non-code note within code. InPython, a comment is preceded by a `#` for single-line comments.\n",
    "\n",
    "Comments are useful as notes to yourself (the programmer), and/or notes to a user of your code. \n",
    "\n",
    "Below, the code from the first cell is reproduced with helpful comments.\n",
    "\n",
    "#### Run this code again and note that the addition of the comments did not change the execution of the code"
   ]
  },
  {
   "cell_type": "code",
   "execution_count": null,
   "metadata": {},
   "outputs": [],
   "source": [
    "# The following is simple python code, with comments, for adding two variables together\n",
    "a = 6 # assigning the value of 6 to variable a\n",
    "b = 2 # assigning the value 2 to the variable b\n",
    "c = a+b # adding the variables a and b and storing the result in c\n",
    "print(c) # printing the contents of c to the screen, right below the cell"
   ]
  },
  {
   "cell_type": "markdown",
   "metadata": {},
   "source": [
    "### A *function* is a block of code that can be called at any point after it has been evaluated\n",
    "\n",
    "Many of the commands using in Python are actually functions, with their inner-workings hidden away from us.  A basic understanding of how they work makes understanding how to use Python better.\n",
    "\n",
    "Let's define a function that takes in two numbers and returns the sum of the two.  The command `def` lets Python know you are `def`ining a function while the `return` command lets Python know what output to give.\n",
    "\n",
    "Run the cell below and then test out the function in the following cell."
   ]
  },
  {
   "cell_type": "code",
   "execution_count": null,
   "metadata": {},
   "outputs": [],
   "source": [
    "def add(a,b): # a function is indicated by def. We named this function add. It takes two values as arguments\n",
    "    c = a+b   # we add the two values that were passed into the function\n",
    "    return c  # and return the result"
   ]
  },
  {
   "cell_type": "code",
   "execution_count": null,
   "metadata": {},
   "outputs": [],
   "source": [
    "answer = add(6,2)    # We store the result of add into a new variable answer\n",
    "print(answer)\n",
    "answer = add(5,100)  # We overwrote the variable answer with the new value\n",
    "print(answer)        \n",
    "test = add('h','i')  # The + sign concatenates other data types, such as characters, rather that adding them\n",
    "print(test)"
   ]
  },
  {
   "cell_type": "markdown",
   "metadata": {},
   "source": [
    "### The power of Python lies in the ability to easily add modules\n",
    "\n",
    "Bare-bones Python only knows how to do a few things and you need to import modules to extend its capabilities.  For example, Python doesn't contain a squareroot function but you can import the `math` module to gain that capability.\n",
    "\n",
    "Try running the cell immediately below first.  It should tell you that the name `sqrt` isn't defined.\n",
    "\n",
    "Next run the cell below that, then come back and run this cell"
   ]
  },
  {
   "cell_type": "code",
   "execution_count": null,
   "metadata": {},
   "outputs": [],
   "source": [
    "A = 9\n",
    "\n",
    "print(sqrt(A))"
   ]
  },
  {
   "cell_type": "code",
   "execution_count": null,
   "metadata": {},
   "outputs": [],
   "source": [
    "from math import sqrt"
   ]
  },
  {
   "cell_type": "markdown",
   "metadata": {},
   "source": [
    "We will be importing different modules over the course of this class to extend the capabilities of Python. "
   ]
  },
  {
   "cell_type": "markdown",
   "metadata": {},
   "source": [
    "---\n",
    "# Plotting Functions Using Matplotlib\n",
    "\n",
    "Matplotlib is a Python package that \"makes easy things easy and hard things possible\".  Pyplot is a Matplotlib module that provides a MATLAB-type interface for plotting.  To get started we need to import the Pyplot module into our session of Jupyter by starting our cell with `import matplotlib.pyplot as plt`.  What this means is that all functions and classes in Pyplot (which is part of the Matplotlib package) can be accessed by using `plt` as a prefix to all commands in Pyplot.\n",
    "\n",
    "You can find numerous examples and tutorials of how to generate plots using Matplotlib at https://matplotlib.org/tutorials/index.html.  Remember, when in doubt, copy working code!\n",
    "\n",
    "Put your cursor in the cell below and hit <kbd>Shift</kbd>+<kbd>Enter</kbd> to generate a plot."
   ]
  },
  {
   "cell_type": "code",
   "execution_count": null,
   "metadata": {},
   "outputs": [],
   "source": [
    "%matplotlib inline\n",
    "import matplotlib.pyplot as plt\n",
    "\n",
    "t = [0, 1, 2, 3, 4, 5]\n",
    "t_squared = [0, 1, 4, 9, 16, 25]\n",
    "\n",
    "plt.plot(t,t_squared)\n",
    "plt.title('T Squared vs T')\n",
    "plt.show()"
   ]
  },
  {
   "cell_type": "markdown",
   "metadata": {},
   "source": [
    "The `plot()` function takes two lists for the x-coordinate and y-coordinates.  Because we have \"renamed\" the Pyplot module to be `plt`, all Pyplot commands should start with `plt.`  To use the `plot()` command we need to type `plt.plot()`.  The example below shows how to generate a list of t values from 0 to 14, calculate a list of values for the y-position, and then plot the data.  Click in the cell below and hit <kbd>Shift</kbd>+<kbd>Enter</kbd>."
   ]
  },
  {
   "cell_type": "code",
   "execution_count": null,
   "metadata": {},
   "outputs": [],
   "source": [
    "%matplotlib inline\n",
    "import matplotlib.pyplot as plt\n",
    "\n",
    "a = -9.8\n",
    "vy_0 = 10\n",
    "y_0 = 2\n",
    "\n",
    "\n",
    "t = range(0,15)\n",
    "\n",
    "\n",
    "\n",
    "y=[]\n",
    "for i in t:\n",
    "    new_y = y_0+vy_0*i + 1/2*a*i**2\n",
    "    y.append(new_y)\n",
    "print(y)\n",
    "    \n",
    "plt.plot(t,y)\n",
    "plt.xlabel('time')\n",
    "plt.ylabel('y position')\n",
    "plt.show()"
   ]
  },
  {
   "cell_type": "markdown",
   "metadata": {},
   "source": [
    "### You are done\n",
    "\n",
    "You don't need to turn anything in for this activity but you should keep this notebook handy for reference in the future."
   ]
  },
  {
   "cell_type": "code",
   "execution_count": null,
   "metadata": {},
   "outputs": [],
   "source": []
  }
 ],
 "metadata": {
  "kernelspec": {
   "display_name": "Python 3",
   "language": "python",
   "name": "python3"
  },
  "language_info": {
   "codemirror_mode": {
    "name": "ipython",
    "version": 3
   },
   "file_extension": ".py",
   "mimetype": "text/x-python",
   "name": "python",
   "nbconvert_exporter": "python",
   "pygments_lexer": "ipython3",
   "version": "3.7.3"
  }
 },
 "nbformat": 4,
 "nbformat_minor": 4
}
