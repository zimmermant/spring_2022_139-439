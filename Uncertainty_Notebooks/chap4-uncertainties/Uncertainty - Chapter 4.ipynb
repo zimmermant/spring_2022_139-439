{
  "cells": [
    {
      "cell_type": "markdown",
      "id": "677e5062",
      "metadata": {
        "id": "677e5062"
      },
      "source": [
        "# 4 More on Type B evaluations of uncertainty\n",
        "\n",
        "In Chapter 3, you learnt how to evaluate a Type B uncertainty associated with reading the scale of an instrument.\n",
        "\n",
        "What is meant by a “**measurand**”?"
      ]
    },
    {
      "cell_type": "markdown",
      "id": "de745618",
      "metadata": {
        "id": "de745618"
      },
      "source": []
    },
    {
      "cell_type": "markdown",
      "id": "a31cbe1e",
      "metadata": {
        "id": "a31cbe1e"
      },
      "source": [
        "What is the purpose of making measurements in science?"
      ]
    },
    {
      "cell_type": "markdown",
      "id": "f09b6e08",
      "metadata": {
        "id": "f09b6e08"
      },
      "source": []
    },
    {
      "cell_type": "markdown",
      "id": "c3e0bc82",
      "metadata": {
        "id": "c3e0bc82"
      },
      "source": [
        "Why can the “true value” of a measurand never be known ?"
      ]
    },
    {
      "cell_type": "markdown",
      "id": "be470ecc",
      "metadata": {
        "id": "be470ecc"
      },
      "source": []
    },
    {
      "cell_type": "markdown",
      "id": "b26af450",
      "metadata": {
        "id": "b26af450"
      },
      "source": [
        "**Do not scroll down until you have completely answered the questions on this page.**\n",
        "\n",
        ".\n",
        "\n",
        ".\n",
        "\n",
        ".\n",
        "\n",
        ".\n",
        "\n",
        ".\n",
        "\n",
        ".\n",
        "\n",
        ".\n",
        "\n",
        ".\n",
        "\n",
        ".\n",
        "\n",
        ".\n",
        "\n",
        ".\n",
        "\n",
        ".\n",
        "\n",
        ".\n",
        "\n",
        ".\n",
        "\n",
        ".\n",
        "\n",
        ".\n",
        "\n",
        ".\n",
        "\n",
        "---"
      ]
    },
    {
      "cell_type": "markdown",
      "id": "a109ff73",
      "metadata": {
        "id": "a109ff73"
      },
      "source": [
        "The purpose of making a measurement in science is to obtain information about a **measurand**. The first thing that the measurer, i.e. you, has to do is to clearly specify the measurand. You need to ask yourself, “What do I want to measure?” The answer to this question gives you the “measurand”. You always need to be careful when you specify the measurand. For example, if you want to measure the length of a bar of iron to 0.000001 of a metre, then it would be appropriate to also specify the temperature and pressure (and any other parameters) that might affect the result.\n",
        "\n",
        "We saw in the last chapter that the information about a measurand that we obtain in a measurement is always affected by sources of **uncertainty**. There are many effects which contribute towards the total uncertainty in a measurement, including the rating of the instrument, reading the scale of the instrument, etc. All these effects need to be considered as part of the measurement process, and estimated numerically. The summary of all the sources of uncertainty in a measurement is called an “**uncertainty budget**”, just like the summary of all the expenses in a business is also called a budget. A scientific measurement is meaningless without a quantitative analysis of sources of uncertainty.\n",
        "\n",
        "<img src=\"https://github.com/zimmermant/spring_2022_139-439/blob/main/Uncertainty_Notebooks/chap4-uncertainties/C4-Fig2.png?raw=1\" style=\"width: 600px;\"/>\n",
        "\n",
        "For example, the Committee on Data for Science and Technology (CODATA) recommends the following values for some well known constants:\n",
        "\n",
        "* Newtonian constant of gravitation, G : $6.673(10) \\times 10^{-11} m^3 kg^{-1} s^{-2}$\n",
        "* Elementary charge, e : $1.602176462(63) \\times 10^{-19} C$\n",
        "* Plank constant, h : $6.62606876(52) \\times 10^{-34} Js$\n",
        "* Proton mass, mp :  $1.67262158(13) \\times 10^{-27} kg$\n",
        "\n",
        "The values in brackets are the standard uncertainties for each constant. For example the standard uncertainty for the value of G is $0.010 \\times 10^{-11} m^3 kg^{-1} s^{-2}$ and the standard uncertainty for e is $0.000000063 \\times 10^{-19} C$.\n",
        "\n",
        "\n",
        "In the previous chapter we saw how all the information that we have about the measurand after the measurement may be modelled by a mathematical function called a probability density function. Usually we do not show the whole pdf, but summarise it by the **best approximation** of the measurand together with the standard uncertainty. The best approximation of the measurand is given by the most probable value (usually the centre of the pdf) and the average width of the pdf gives the **standard uncertainty**. This information together forms the **result of the measurement**.\n",
        "\n",
        "---\n",
        "\n",
        "# 4.1 More examples of single readings\n",
        "\n",
        " Before we continue with some new ideas, consider the following situations. Look at each example and determine the **best approximation** of the measurand and **standard uncertainty** associated with reading the scale (Type B evaluation) in each case. Remember that the uncertainty associated with reading the scale is only one out of many possible sources of uncertainty in each case below.\n",
        "\n",
        "(a) What is the position L of the mark ?\n",
        "\n",
        "<img src=\"https://github.com/zimmermant/spring_2022_139-439/blob/main/Uncertainty_Notebooks/chap4-uncertainties/C4-Fig3.png?raw=1\" style=\"width: 600px;\"/>\n"
      ]
    },
    {
      "cell_type": "markdown",
      "id": "bf1b62fe",
      "metadata": {
        "id": "bf1b62fe"
      },
      "source": [
        "Best approximation of L = _______________\n",
        "\n",
        "Standard uncertainty $u(L)$ associated with reading the scale = ______________"
      ]
    },
    {
      "cell_type": "markdown",
      "id": "3b7b8d07",
      "metadata": {
        "id": "3b7b8d07"
      },
      "source": [
        "(b) What is the frequency f shown on the meter ?\n",
        "\n",
        "<img src=\"https://github.com/zimmermant/spring_2022_139-439/blob/main/Uncertainty_Notebooks/chap4-uncertainties/C4-Fig4.png?raw=1\" style=\"width: 600px;\"/>"
      ]
    },
    {
      "cell_type": "markdown",
      "id": "582f0c87",
      "metadata": {
        "id": "582f0c87"
      },
      "source": [
        "Best approximation of f = _______________\n",
        "\n",
        "Standard uncertainty $u(f)$ associated with reading the scale = ____________\n",
        "\n",
        "Which probability density function did you use to model your knowledge about f ? _________________________"
      ]
    },
    {
      "cell_type": "markdown",
      "id": "cf44694c",
      "metadata": {
        "id": "cf44694c"
      },
      "source": [
        "(c) What is the voltage V shown on the voltmeter?\n",
        "\n",
        "<img src=\"https://github.com/zimmermant/spring_2022_139-439/blob/main/Uncertainty_Notebooks/chap4-uncertainties/C4-Fig5.png?raw=1\" style=\"width: 600px;\"/>"
      ]
    },
    {
      "cell_type": "markdown",
      "id": "da5b3eb3",
      "metadata": {
        "id": "da5b3eb3"
      },
      "source": [
        "Best approximation of V = ________________\n",
        "\n",
        "Standard uncertainty $u(V)$ associated with reading the scale = ___________\n",
        "\n",
        "Which probability density function did you use to model your knowledge about V ? _________________________"
      ]
    },
    {
      "cell_type": "markdown",
      "id": "6da3291e",
      "metadata": {
        "id": "6da3291e"
      },
      "source": [
        "(d) What is the current I shown on the ammeter ?\n",
        "\n",
        "\n",
        "<img src=\"https://github.com/zimmermant/spring_2022_139-439/blob/main/Uncertainty_Notebooks/chap4-uncertainties/C4-Fig6.png?raw=1\" style=\"width: 600px;\"/>"
      ]
    },
    {
      "cell_type": "markdown",
      "id": "a4c471b0",
      "metadata": {
        "id": "a4c471b0"
      },
      "source": [
        "Best approximation of I = ______________\n",
        "\n",
        "Standard uncertainty $u(I)$ associated with reading the scale = _________\n",
        "\n",
        "Which probability density function did you use to model your knowledge about I ? _________________________"
      ]
    },
    {
      "cell_type": "markdown",
      "id": "1e33e09c",
      "metadata": {
        "id": "1e33e09c"
      },
      "source": [
        "---\n",
        "\n",
        "## 4.2 Coverage probability\n",
        "\n",
        " Imagine that you are doing an experiment in order to determine the mass of an object. Let us say that as a result of the experiment, you determine that the best approximation of the mass is $83.45\\ g$ with a standard uncertainty of $0.34\\ g$.\n",
        "\n",
        "It is sometimes convenient to write the result as $83.45 \\pm 0.34\\ g$.\n",
        "\n",
        "The result $83.45 \\pm 0.34\\ g$ defines an **interval** on the “number line” (between $83.11\\ g$ and $83.79\\ g$) in which we can expect a (large) fraction of the possible values of the mass to be found. (Remember that we can never know the “true” value of the mass.)\n",
        "\n",
        "<img src=\"https://github.com/zimmermant/spring_2022_139-439/blob/main/Uncertainty_Notebooks/chap4-uncertainties/C4-Fig7.png?raw=1\" style=\"width: 600px;\"/>\n",
        "\n",
        "Another way of asking this question is “How confident are you that the value of the mass lies between $83.11\\ g$ and $83.79\\ g$ ?”\n",
        "Remember that the standard uncertainty is related to the “average width” of the pdf that you are using (see Appendix G for more details). The area of the pdf within the average width is about 68% of the total area of the pdf. (This is not strictly true, as it does depend of the particular pdf being used, although we don’t make a distinction here.)\n",
        "\n",
        "<img src=\"https://github.com/zimmermant/spring_2022_139-439/blob/main/Uncertainty_Notebooks/chap4-uncertainties/C4-Fig8.png?raw=1\" style=\"width: 600px;\"/>\n",
        "\n",
        "The shaded area in the pdf above is the area within one standard uncertainty of the best approximation. We call this area, expressed as a percentage, the **coverage probability** (or **level of confidence**).\n",
        "\n",
        "The coverage probability is a measure of the probability that the value of the measurand lies between y − u and y + u , where y is the best approximation and u is the standard uncertainty. Remember that you are 100% sure that the value of the measurand lies somewhere under the interval spanned by the entire pdf, since the area under the whole pdf is always unity.\n",
        "\n",
        "Therefore when you state the result of a measurement as “the best approximation of the mass is 83.45 g with a standard uncertainty of 0.34 g”, you understand that **there is a 68% probability that the value of the mass exists somewhere within the interval 83.45± 0.34 g,with the most likely value (the best approximation of the measurand) being 83.45 g**.\n",
        "\n",
        "Remember that there is a 32% probability that the measurand may exist outside of the interval 83.45 ± 0.34 g.\n",
        "\n",
        "Now consider the two situations below. Two independent experiments were completed in order to determine the mass m of an object. The final results of the two experiments are shown below as Gaussian pdf’s which are used to describe all available information about the measurand in each case.\n",
        "\n",
        "<img src=\"https://github.com/zimmermant/spring_2022_139-439/blob/main/Uncertainty_Notebooks/chap4-uncertainties/C4-Fig9.png?raw=1\" style=\"width: 600px;\"/>\n",
        "\n",
        "From these pdf’s it can be seen that both results have 83.50 g for the best approximation of m, but measurement A has $u(m) = 0.12\\ g$ and measurement B has $u(m) = 0.06\\ g$.\n",
        "\n",
        "Which one of the two measurements do you think is the “best” and why?"
      ]
    },
    {
      "cell_type": "markdown",
      "id": "605f5096",
      "metadata": {
        "id": "605f5096"
      },
      "source": []
    },
    {
      "cell_type": "markdown",
      "id": "48e8ff13",
      "metadata": {
        "id": "48e8ff13"
      },
      "source": [
        "Do not proceed until you have completely answered the questions above.\n",
        "\n",
        ".\n",
        "\n",
        ".\n",
        "\n",
        ".\n",
        "\n",
        ".\n",
        "\n",
        ".\n",
        "\n",
        ".\n",
        "\n",
        ".\n",
        "\n",
        ".\n",
        "\n",
        ".\n",
        "\n",
        ".\n",
        "\n",
        ".\n",
        "\n",
        ".\n",
        "\n",
        ".\n",
        "\n",
        ".\n",
        "\n",
        ".\n",
        "\n",
        ".\n",
        "\n",
        ".\n",
        "\n",
        "---\n"
      ]
    },
    {
      "cell_type": "markdown",
      "id": "0fa976ea",
      "metadata": {
        "id": "0fa976ea"
      },
      "source": [
        "The “best” result is always associated with the measurement with the **smallest uncertainty**. Measurement B has half the standard uncertainty of measurement A. Therefore our 68 % coverage probability is associated with a smaller interval (83.44 g to 83.56 g) for measurement B than measurement A (83.38 g to 83.62 g). In other words we have better knowledge about the value of the measurand from measurement B, since we have the <u>same</u> coverage probability associated with a <u>narrower</u> interval.\n",
        "\n",
        "## 4.3 Reporting the result of your measurement\n",
        "When reporting the result of a measurement, it is better to provide too much information rather than too little. For example, you should describe clearly the methods used to calculate your uncertainties, and present the data analysis in such a way that each of the important steps can be easily followed by the reader of your report.\n",
        "When reporting the result of a measurement, you should therefore give:\n",
        "\n",
        "(i) a clear statement of the measurand; and\n",
        "\n",
        "(ii) the best approximation of the measurand and its standard uncertainty (remember to give the units).\n",
        "\n",
        "Sometimes it is also necessary to state the coverage probability (see Appendix H)\n",
        "\n",
        "For example, the result of the measurement may be reported as:\n",
        "\n",
        "“...the **best approximation** of the mass was determined to be 83.45 g with a **standard uncertainty** of 0.34 g (with a 68% coverage probability, using a Gaussian pdf).”\n",
        "\n",
        "You can now report your **final results** for the four examples given on the previous pages. Complete the information below. This is how you should always the result of a measurement."
      ]
    },
    {
      "cell_type": "markdown",
      "id": "76b69609",
      "metadata": {
        "id": "76b69609"
      },
      "source": [
        "(a) L = __________ ± __________ cm  ( 68 % coverage probability)\n",
        "\n",
        "(b) f = __________ ± __________ Hz ( 68 % coverage probability)\n",
        "\n",
        "(c) V = __________ ± __________ V (d) ( 68 % coverage probability)\n",
        "\n",
        "(d) I = __________ ± __________ mA  ( 68 % coverage probability)\n"
      ]
    },
    {
      "cell_type": "markdown",
      "id": "ef53ebcf",
      "metadata": {
        "id": "ef53ebcf"
      },
      "source": [
        "## 4.4 Significant digits\n",
        "\n",
        "If we determine a particular measurement result (after a series of calculations) to be m = 35.82134 ± 0.061352 kg, how many digits should we quote in our result?\n",
        "\n",
        "The uncertainty of 0.0<u>6</u>1352 kg tells us that we are uncertain about the second decimal place in 35.8<u>2</u>134 kg. Our final result is then written as m = 35.821 ± 0.061 kg.\n",
        "\n",
        "You should generally quote your uncertainty giving **two** figures, and then round off your best approximation of the measurand to the same digit as the second digit in your uncertainty.\n",
        "\n",
        "Another example: T = 0.00345474 ± 0.00069780 s should be reported as T = 0.00345 ± 0.00070 s or $T =(3.45 \\pm 0.70)\\times10^{-3}\\ s$.\n",
        "\n",
        "You will thus often need to **round off** your calculations to an appropriate number of significant digits. The general rules for rounding off are:\n",
        "\n",
        "(a) The last significant figure to be retained remains unaltered if the next digit is less than 5. For example, 3.434 rounds off to 3.43 .\n",
        "\n",
        "(b) The last significant figure to be retained is increased by one if the next digit is greater than or equal to 5 . For example, 3.436 rounds off to 3.44 .\n",
        "\n",
        "(c) Do not do a double round off: 3.4348 rounded off to three significant figures becomes 3.43 . Do not round off 3.4348 to 3.435 to 3.44 !\n",
        "\n",
        "Now try the following. Write down the following measurement results with an acceptable number of significant digits."
      ]
    },
    {
      "cell_type": "markdown",
      "id": "74468709",
      "metadata": {
        "id": "74468709"
      },
      "source": [
        "$l = 34.47 \\pm 0.4572\\ m$ becomes ______________________________\n",
        "\n",
        "$f = 41074 \\pm 25.9\\ Hz$ becomes ______________________________\n",
        "\n",
        "$k = 1.3743 \\times 10^5 \\pm 216\\ N\\ m^{-1}$ becomes ______________________________\n",
        "\n",
        "$I = 23274.64746 \\pm 5.566\\ A$ becomes ______________________________"
      ]
    },
    {
      "cell_type": "markdown",
      "id": "72f4b9e5",
      "metadata": {
        "id": "72f4b9e5"
      },
      "source": [
        "## 4.5 Instrument precision\n",
        "\n",
        "When you record data from using an instrument, the digits that you record are determined by the precision of the instrument (and your ability to use it). For instance, when using a metre rule to measure distance, you can (with care) take a reading down to one tenth of a millimetre. Thus, such a reading should be recorded as 121.7 mm, but not 121.70 mm or 121.700 mm. Why not? What is the difference between writing 121.7 mm and 121.70 mm ?"
      ]
    },
    {
      "cell_type": "markdown",
      "id": "c7afe023",
      "metadata": {
        "id": "c7afe023"
      },
      "source": []
    },
    {
      "cell_type": "markdown",
      "id": "ffc26885",
      "metadata": {
        "id": "ffc26885"
      },
      "source": [
        "## 4.6 Example 1: A single reading\n",
        "\n",
        "A group of students are doing an experiment in the laboratory. They need to measure the level of water in a measuring cylinder. What they see is shown alongside. The scale is in $cm^3$.\n",
        "\n",
        "<img src=\"https://github.com/zimmermant/spring_2022_139-439/blob/main/Uncertainty_Notebooks/chap4-uncertainties/C4-Fig10.png?raw=1\" style=\"width: 200px;\"/>\n",
        "\n",
        "The students then discuss what to do.\n",
        "\n",
        "<img src=\"https://github.com/zimmermant/spring_2022_139-439/blob/main/Uncertainty_Notebooks/chap4-uncertainties/C4-Fig11.png?raw=1\" style=\"width: 600px;\"/>\n",
        "\n",
        "Write down what the students should record as their final result for the water level."
      ]
    },
    {
      "cell_type": "markdown",
      "id": "46c771b3",
      "metadata": {
        "id": "46c771b3"
      },
      "source": []
    },
    {
      "cell_type": "markdown",
      "id": "8718a1ae",
      "metadata": {
        "id": "8718a1ae"
      },
      "source": [
        "## 4.7 Example 2: A digital reading\n",
        "\n",
        " Some other students have set up an electric circuit and are using a digital voltmeter to measure the voltage across a component. They switch the power to the circuit on and off a few times, but the voltmeter consistently shows the following:\n",
        "\n",
        " <img src=\"https://github.com/zimmermant/spring_2022_139-439/blob/main/Uncertainty_Notebooks/chap4-uncertainties/C4-Fig12.png?raw=1\" style=\"width: 600px;\"/>\n",
        "\n",
        "The students think about what to do next.\n",
        "\n",
        " <img src=\"https://github.com/zimmermant/spring_2022_139-439/blob/main/Uncertainty_Notebooks/chap4-uncertainties/C4-Fig13.png?raw=1\" style=\"width: 600px;\"/>\n",
        "\n",
        "\n",
        "Write down what the students should record as the standard uncertainty associated with reading the digital display.\n"
      ]
    },
    {
      "cell_type": "markdown",
      "id": "d8fe3a4f",
      "metadata": {
        "id": "d8fe3a4f"
      },
      "source": []
    },
    {
      "cell_type": "markdown",
      "id": "6b1eaf4d",
      "metadata": {
        "id": "6b1eaf4d"
      },
      "source": [
        "The standard uncertainty that you calculated above is the uncertainty associated with observing the digital display of the voltmeter. Of course, there can be other sources of uncertainty associated with the voltage measurement. Think carefully and list your ideas here."
      ]
    },
    {
      "cell_type": "markdown",
      "id": "29584af6",
      "metadata": {
        "id": "29584af6"
      },
      "source": []
    },
    {
      "cell_type": "markdown",
      "id": "9e73c7b2",
      "metadata": {
        "id": "9e73c7b2"
      },
      "source": [
        "Say that you are told that the digital meter you using here has a percentage calibration uncertainty of 1%. Then the standard we would say the uncertainty associated with the rating of the instrument is equal to ...:\n",
        "\n",
        "$u_{rating}=$ ____________ V.\n",
        "\n",
        "Now calculate the combined standard uncertainty for this measurement:\n",
        "        \n",
        " $u_c(V)$ = ________________\n",
        "        \n"
      ]
    },
    {
      "cell_type": "markdown",
      "id": "baefadd3",
      "metadata": {
        "id": "baefadd3"
      },
      "source": [
        "## 4.8 Example 3: The result of a measurement\n",
        "\n",
        "A group of students are busy analysing the data from their experiment. They use a probability density function (pdf) to model their knowledge about a measurand d as shown below.\n",
        "\n",
        "<img src=\"https://github.com/zimmermant/spring_2022_139-439/blob/main/Uncertainty_Notebooks/chap4-uncertainties/C4-Fig14.png?raw=1\" style=\"width: 600px;\"/>\n",
        "\n",
        "Write down <u>all</u> the information that you know about d from this pdf."
      ]
    },
    {
      "cell_type": "markdown",
      "id": "4a63fd35",
      "metadata": {
        "id": "4a63fd35"
      },
      "source": []
    }
  ],
  "metadata": {
    "kernelspec": {
      "display_name": "Python 3",
      "language": "python",
      "name": "python3"
    },
    "language_info": {
      "codemirror_mode": {
        "name": "ipython",
        "version": 3
      },
      "file_extension": ".py",
      "mimetype": "text/x-python",
      "name": "python",
      "nbconvert_exporter": "python",
      "pygments_lexer": "ipython3",
      "version": "3.7.12"
    },
    "colab": {
      "provenance": []
    }
  },
  "nbformat": 4,
  "nbformat_minor": 5
}