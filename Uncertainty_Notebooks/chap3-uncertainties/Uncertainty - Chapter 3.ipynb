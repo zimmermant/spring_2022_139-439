{
 "cells": [
  {
   "cell_type": "markdown",
   "metadata": {},
   "source": [
    "# 3 The standard uncertainty \n",
    "\n",
    "## 3.1 Density\n",
    "\n",
    "If your friend asks you ...\n",
    "<img src=\"C3-Fig1.png\" style=\"width: 600px;\"/>\n",
    "\n",
    "... then most likely you will say something like “density is the mass per unit volume.” This means that if you have a certain object and you measure both the volume and the mass of the object, then the density will be given by the mass divided by the volume.\n",
    "\n",
    "For example, if a block of wood has mass 1.3 kg and volume 0.2 $m^3$ , then what is the density of the wood ?"
   ]
  },
  {
   "cell_type": "markdown",
   "metadata": {},
   "source": []
  },
  {
   "cell_type": "markdown",
   "metadata": {},
   "source": [
    "Although we often use the term “density” to relate mass and volume, there are many other types of density. For example, have you come across the phrase “population density”? Population density tells us the number of people living in a particular area, often the number of people per square kilometre. In physics we sometimes come across linear densities, such as the “linear charge density”, which gives the amount charge per unit length, i.e. the number of coulombs per metre.\n",
    "\n",
    "What do you think “surface charge density” is, and what will the units be?"
   ]
  },
  {
   "cell_type": "markdown",
   "metadata": {},
   "source": []
  },
  {
   "cell_type": "markdown",
   "metadata": {},
   "source": [
    "In all the cases mentioned we can see that density tell us about how closely something is packed together into a volume, an area or a line. Mathematically, this can be written as one quantity divided by another with the denominator usually being a length, an area or a volume. Thus, the “ordinary” density d can be written as $d = m / V$ where $m$ is the mass and $V$ is the volume. If $m$ is in $kg$ and $V$ is in $m^3$ then the density will have the units $kg\\ m^{-3}$.\n",
    "\n",
    "<img src=\"C3-Fig2.png\" style=\"width: 600px;\"/>\n",
    "\n",
    "In the last chapter we looked at the concept of probability, but what is a probability density ? It is useful to first understand what a density function is.\n",
    "\n",
    "---\n",
    "\n",
    "\n",
    "## 3.2 Density functions\n",
    "\n",
    "Think of a piece of straight wire which is 6 metres long. Now have a look at the graph below which shows a plot of linear mass density versus the length of this wire. The graph shown is a flat line indicating that the linear mass density has the same value at each point along the length, i.e. the linear mass density function is a **constant**.\n",
    "\n",
    "<img src=\"C3-Fig3.png\" style=\"width: 600px;\"/>\n",
    "\n",
    "In this case it is easy to see that we can obtain the mass of any portion of the wire by multiplying the value of the linear mass density by the length. For example, between $3.0\\ m$ and $5.0\\ m$ the mass will be $(5.0−3.0)m \\times 0.3\\ kg\\ m^{-1} =0.6kg$. From the graph we can see that this calculation is represented by the **shaded area**.\n",
    "\n",
    "Python can do all the math for you, all you need to do is define variables and enter the equation.  For example, for the previous figure with the constant mass density function we could enter the following code:"
   ]
  },
  {
   "cell_type": "code",
   "execution_count": 1,
   "metadata": {},
   "outputs": [
    {
     "name": "stdout",
     "output_type": "stream",
     "text": [
      "The shaded area of the graph is  0.6  kg\n"
     ]
    }
   ],
   "source": [
    "length_1 = 3.0\n",
    "length_2 = 5.0\n",
    "mass_dens = 0.3\n",
    "\n",
    "area_for_const_dens = mass_dens*(length_2 - length_1)\n",
    "\n",
    "print(\"The shaded area of the graph is \", area_for_const_dens, \" kg\")"
   ]
  },
  {
   "cell_type": "markdown",
   "metadata": {},
   "source": [
    "Even if the linear mass density function is not a constant, we can always calculate the mass between two points by calculating the area under the function. For example, consider another wire but this time the linear mass density versus the length has the shape as shown below.\n",
    "\n",
    "<img src=\"C3-Fig4.png\" style=\"width: 600px;\"/>\n",
    "\n",
    "From the graph, describe in words how the density changes as a function of length."
   ]
  },
  {
   "cell_type": "markdown",
   "metadata": {},
   "source": []
  },
  {
   "cell_type": "markdown",
   "metadata": {},
   "source": [
    "Shade the area on the graph that corresponds to the mass of the piece of wire between 0.0 and 2.0 metres. Now calculate this area.\n",
    "\n",
    "Enter your Python calculations below.  You'll need to define the variables and enter the equation for the area.\n"
   ]
  },
  {
   "cell_type": "code",
   "execution_count": null,
   "metadata": {},
   "outputs": [],
   "source": [
    "#Define variables below\n",
    "\n",
    "area_of_graph = #enter your equation before the hashtag\n",
    "print(\"The area under the graph is \", area_of_graph, \" kg\")"
   ]
  },
  {
   "cell_type": "markdown",
   "metadata": {},
   "source": [
    "Shade the area on the graph that corresponds to the mass of the piece of wire between 4.0 and 6.0 metres. Now calculate this area."
   ]
  },
  {
   "cell_type": "code",
   "execution_count": null,
   "metadata": {},
   "outputs": [],
   "source": [
    "#Define variables below\n",
    "\n",
    "area_of_graph = #enter your equation before the hashtag\n",
    "print(\"The area under the graph is \", area_of_graph, \" kg\")"
   ]
  },
  {
   "cell_type": "markdown",
   "metadata": {},
   "source": [
    "Clearly the second area is larger. What can you say about the mass of the wire?"
   ]
  },
  {
   "cell_type": "markdown",
   "metadata": {},
   "source": [
    "The mass of the wire between 0.0 and 2.0 metres = ___________ kg\n",
    "\n",
    "The mass of the wire between 4.0 and 6.0 metres = ___________ kg"
   ]
  },
  {
   "cell_type": "markdown",
   "metadata": {},
   "source": [
    "We can say that the mass per unit length of the wire increases in direct proportion to the length of the wire.\n",
    "\n",
    "---\n",
    "\n",
    "# 3.3 Probability density and probability density functions\n",
    "\n",
    " Probability density p is simply the probability P of a variable existing between two values which bound an interval. A probability density function p(x) describes the probability density p as a function of the variable x. Note that we use the symbol p for probability density and P for probability.\n",
    " \n",
    "Look at a probability density function (pdf) below, which describes the probability density p as a function of the possible values of the mass m of an object.\n",
    "\n",
    "<img src=\"C3-Fig5.png\" style=\"width: 600px;\"/>\n",
    "\n",
    "Do you think the value of the mass is more likely to lie between 1.0 and 2.0 kg, or between 4.0 and 5.0 kg? Why?"
   ]
  },
  {
   "cell_type": "markdown",
   "metadata": {},
   "source": []
  },
  {
   "cell_type": "markdown",
   "metadata": {},
   "source": [
    "One way to think about this is that there is more probability squashed up between\n",
    "4.0 kg and 5.0 kg than between 1.0 kg and 2.0 kg. This is because the probability density function (pdf) increases linearly with mass.\n",
    "\n",
    "What is the probability that the mass of the object lies between 0.0 and 1.0 kg? Shade the appropriate area on the graph above and calculate the area."
   ]
  },
  {
   "cell_type": "markdown",
   "metadata": {},
   "source": [
    "Probability that the mass lies between 0.0 and 1.0 kg = ________\n",
    "\n",
    "What is the probability that the mass of the object lies between 4.0 and 5.0 kg? \n",
    "\n",
    "Probability that the mass lies between 4.0 and 5.0 kg = ________\n",
    "\n",
    "What is the probability that the mass of the object is exactly 5.0 kg? \n",
    "\n",
    "Probability that the mass is exactly 5.0 kg = ________"
   ]
  },
  {
   "cell_type": "markdown",
   "metadata": {},
   "source": [
    "<img src=\"C3-Fig6.png\" style=\"width: 600px;\"/>\n",
    "\n",
    "\n",
    "Without doing the calculation, what do you think is the total area under the whole pdf?"
   ]
  },
  {
   "cell_type": "markdown",
   "metadata": {},
   "source": []
  },
  {
   "cell_type": "markdown",
   "metadata": {},
   "source": [
    "Now calculate the area to see what you get. Is this what you expected?"
   ]
  },
  {
   "cell_type": "code",
   "execution_count": null,
   "metadata": {},
   "outputs": [],
   "source": [
    "#Define variables below\n",
    "\n",
    "area_of_graph = #enter your equation before the hashtag\n",
    "print(\"The area under the graph is \", area_of_graph, \" kg\")"
   ]
  },
  {
   "cell_type": "markdown",
   "metadata": {},
   "source": [
    "<img src=\"C3-Fig7.png\" style=\"width: 600px;\"/>\n",
    "\n",
    "Why do you think that the total area under any pdf is always equal to 1 ?"
   ]
  },
  {
   "cell_type": "markdown",
   "metadata": {},
   "source": [
    "---\n",
    "\n",
    "## 3.4 A probabilistic model of measurement\n",
    "\n",
    "In 1993 the International Standards Organization (ISO) recommended that **metrology** (the science of measurement) is best served by adopting a **probabilistic approach** to data analysis. The ISO recommendations have been adopted by the majority of world standards bodies such as IUPAP (International Union of Pure and Applied Physics), UIPAC (International Union of Pure and Applied Chemistry), BIPM (International Bureau of Weights and Measures), etc., and affects the way in which the results of measurements and uncertainties are reported in all scientific work.\n",
    "\n",
    "In some experimental situations you will have a set of repeated readings, and in others you will only have a single reading. However, the question that you need to ask yourself is the same, “From my data (and other information that I might have), what do I know about the measurand?” The procedure that allows us to go from the data we have collected, to making a statement (an inference) about the measurand itself is based on **probability theory**. The mathematical functions that we use in this process are, in fact, **probability density functions (pdf’s)**, which are used to model all the information that we have about the particular measurand.\n",
    "\n",
    "<img src=\"C3-Fig8.png\" style=\"width: 600px;\"/>\n",
    "\n",
    "--\n",
    "\n",
    "## 3.5 Probability density functions in metrology\n",
    "\n",
    "There are a large number of probability density functions that are useful in many areas ranging from physics to economics. In the context of metrology, though, the three most common types (and the three that you will use in this course) are shown in the table below. It should be noted that are other pdf’s that are useful but we will not deal with them here.\n",
    "\n",
    "<img src=\"C3-Fig9.png\" style=\"width: 600px;\"/>\n",
    "\n",
    "After you collect all the data from an experiment, whether that be a single reading or a set of repeated readings of the same measurand, all your knowledge about a measurand is described fully by a pdf. Consider the pdf below which describes our knowledge about the mass m of an object after an experiment.\n",
    "\n",
    "<img src=\"C3-Fig10.png\" style=\"width: 600px;\"/>\n",
    "\n",
    "Clearly the position of the **centre** of the pdf gives the most probable value of the measurand (called the “**best approximation**” of the measurand).\n",
    "Even though we know that the area under the triangle is equal to 1, this of course does not tell us how “fat” or “thin” the triangle is. The “thinner” the pdf, the better knowledge we have about the measurand. Therefore we need a second number to tell us how spread out the pdf is. The “average width” of the pdf is a measure of the quality of our knowledge about the measurand and is referred to as the **standard uncertainty**, (symbol u). In other words, the more spread out the pdf, the greater the standard uncertainty. On the other hand, the narrower the pdf is, the smaller the standard uncertainty.\n",
    "\n",
    "Therefore when we want to communicate the final result of an experiment to someone else, the best way would be to give full diagram of our final pdf, such as that shown above. However, since in practice this would be very time-consuming and tedious, we usually communicate the following information in order to summarise the pdf (and hence our knowledge):\n",
    "\n",
    "\u0000 The **best approximation** of the measurand (given by the location of the centre of the pdf)\n",
    "\n",
    "\u0000 The **standard uncertainty** $u$ (given by the width of the pdf) \n",
    "\n",
    "\u0000 The **shape** of pdf we are using.\n",
    "\n",
    "In the example above, we could communicate our knowledge as, “the best approximation of m is 3.8 g, with a standard uncertainty of 0.2 g , using a triangular pdf.”\n",
    "\n",
    "---\n",
    "\n",
    "## 3.6 The standard uncertainty\n",
    "\n",
    "Depending on which pdf you use in your measurement, the standard uncertainty u (which is related to the width of the pdf) is calculated in a different way. You can look in Appendix G for more details on pdf’s.\n",
    "\n",
    "<img src=\"C3-Fig11.png\" style=\"width: 600px;\"/>\n",
    "\n",
    "We saw in the last chapter that uncertainty in a measurement is a quantitative measure of the factors that decrease your knowledge about the measurand. There are, broadly speaking, two ways of evaluating uncertainties, and both ways make use of pdf’s.\n",
    "\n",
    "For some types of uncertainty, for example the uncertainty associated with reading a scale, or the uncertainty associated with the internal calibration or “rating” of the instrument, you will use the knowledge that you have about the measurement process and the instrument that you are using. This is called a **Type B evaluation of uncertainty**, for which you will usually use a rectangular of triangular pdf.\n",
    "\n",
    "If you have a **set of repeated readings** of the same measurand which are dispersed (scattered) then you will evaluate the uncertainty associated with the scatter using statistical methods. This is called a **Type A evaluation of uncertainty** (see Chapter 5), for which you will always use a Gaussian pdf.\n",
    "\n",
    "These two categories apply to uncertainty and are not substitutes for the words “random” and “systematic”, as may be found in some books. Be very careful when using the terms “random error” and “systematic error”.\n",
    "\n",
    "After you have calculated the standard uncertainties for all the sources of uncertainty in your measurement then the **total uncertainty** for the measurement, called the **combined standard uncertainty**, is given by the square root of the sum of the squares of all the uncertainties in the measurement.\n",
    "\n",
    "For example, if you were making a measurement of a measurand m, and determined three sources of uncertainty for which you estimated the three standard uncertainties $u_1(m)$ , $u_2(m)$ and $u_3(m)$ , then the **combined standard uncertainty** $u_c(m)$ for the measurement of m is given by\n",
    "\n",
    "$$u_c(m) = \\sqrt{u_1(m)^2 + u_2(m)^2 + u_3(m)^2}$$\n",
    "\n",
    "Note that $u_1(m)$ , $u_2(m)$ and $u_3(m)$ may result from either Type A or Type B evaluations\n",
    "of uncertainty.\n",
    "\n",
    "As an illustration of a Type B evaluation of uncertainty, we will consider the uncertainty associated with reading the scale of an instrument.\n",
    "\n",
    "---\n",
    "\n",
    "## 3.4 Evaluating the standard uncertainty attributed to reading a scale\n",
    "\n",
    "We will look at two cases: (a) a single digital reading; and (b) a single analogue reading. We would like to emphasise at this stage that the uncertainty that we are considering here is from reading the scale only and that when carrying out an experiment there will several other sources of uncertainty that must also be evaluated and combined together to obtain the total uncertainty, as explained above.\n",
    "\n",
    "### (a) A single digital reading.\n",
    "\n",
    "Consider the situation where you want to determine the mass of a block and you see the following on the display of your digital balance.\n",
    "\n",
    "<img src=\"C3-Fig12.png\" style=\"width: 600px;\"/>\n",
    "\n",
    "Clearly the best approximation of the mass is 83.36 g. What about the **standard uncertainty** associated with reading the scale on the display ? Well, we saw previously that the 6 is representing the interval 83.355 g to 83.365 g, i.e. less than 83.355 g the digit would change to 5 and greater than 83.365 g it would show 7. All that we can assume is that the value of the mass is distributed between the interval 83.355 g to 83.365 g with **equal probability**. The probability density function that will give us equal probabilities per unit mass (i.e. equal areas under the function per unit mass) is a **rectangular function** with limits 83.355 g to 83.365 g.\n",
    "\n",
    "<img src=\"C3-Fig13.png\" style=\"width: 600px;\"/>\n",
    "\n",
    "For a rectangular pdf, the standard uncertainty is given by \n",
    "\n",
    "$$\\frac{\\text{half the width of the interval}}{\\sqrt{3}}$$\n",
    "\n",
    "so in this example the standard uncertainty = $\\frac{\\frac{1}{2} (83.365 − 83.355)g}{\\sqrt{3}} = 0.0029 g$ ."
   ]
  },
  {
   "cell_type": "markdown",
   "metadata": {},
   "source": [
    "Best approximation: ______________\n",
    "\n",
    "Standard uncertainty associated with reading the scale: _______________"
   ]
  },
  {
   "cell_type": "markdown",
   "metadata": {},
   "source": [
    "### (b) A single analogue reading.\n",
    "\n",
    "This case is slightly more complicated because it relies on <u>your</u> judgement. Assume that you are using an analogue meter and observe the following.\n",
    "\n",
    "<img src=\"C3-Fig14.png\" style=\"width: 600px;\"/>\n",
    "\n",
    "You might decide that the best approximation of the mass is 83 g. Of course it could possibly be a bit larger or a bit smaller. So you now need to ask yourself, “what are the closest values to the best approximation that you think are definitely not possible?” You might therefore decide that the probability of the value being 82 g is zero and that the probability of the value being 84 g is also zero. So, as you go from your best approximation towards these “impossible” values you become less certain about the measurand. The probability density function that models this behaviour is a **triangular function** with limits 82 g and 84 g as shown below.\n",
    "\n",
    "<img src=\"C3-Fig15.png\" style=\"width: 600px;\"/>\n",
    "\n",
    "For a triangular pdf, the standard uncertainty is $\\frac{\\text{(half of the width of the interval)}}{\\sqrt{6}}$.\n",
    "\n",
    "so in this example the standard uncertainty = $\\frac{\\frac{1}{2} (84 − 82)}{\\sqrt{6}} = 0.41 g$.\n",
    "\n",
    "Now try the following. Determine the best approximation of the mass and the standard uncertainty associated with reading the scale, if the meter shows:\n",
    "\n",
    "<img src=\"C3-Fig16.png\" style=\"width: 600px;\"/>\n",
    "\n"
   ]
  },
  {
   "cell_type": "markdown",
   "metadata": {},
   "source": [
    "Best approximation of the mass : ______________\n",
    "\n",
    "Standard uncertainty associated with reading the scale: _______________"
   ]
  },
  {
   "cell_type": "markdown",
   "metadata": {},
   "source": [
    "<img src=\"C3-Fig17.png\" style=\"width: 600px;\"/> \n",
    "\n",
    "---\n",
    "\n",
    "## 3.5 Exercise: Using an analogue voltmeter to measure the voltage of a battery.\n",
    "\n",
    "You are supplied with the following apparatus: an analogue voltmeter, 2 connecting cables and a battery.\n",
    "\n",
    "You connect up the battery with the terminals of the voltmeter and get the following reading:\n",
    "\n",
    "<img src=\"C3-Fig18.png\" style=\"width: 600px;\"/>\n",
    "\n"
   ]
  },
  {
   "cell_type": "markdown",
   "metadata": {},
   "source": [
    "What is the approximate reading on the voltmeter with the battery connected: ____________ volts"
   ]
  },
  {
   "cell_type": "markdown",
   "metadata": {},
   "source": [
    "This represents your **best approximation** for the voltage across the battery.\n",
    "\n",
    "Next you need to estimate the **standard uncertainty** associated with reading the scale on the voltmeter.\n",
    "\n",
    "Start by answering the following questions:\n",
    "    \n",
    "What are the **closest values to the best approximation** that you think are definitely not possible for the reading ?"
   ]
  },
  {
   "cell_type": "markdown",
   "metadata": {},
   "source": [
    "Lower value: ________________ \n",
    "\n",
    "Upper value: ______________"
   ]
  },
  {
   "cell_type": "markdown",
   "metadata": {},
   "source": [
    "You can use a **triangular probability density function** to model your knowledge about the\n",
    "voltage from reading the voltmeter scale.\n",
    "Fill in values in the four boxes below.\n",
    "\n",
    "<img src=\"C3-Fig19.png\" style=\"width: 600px;\"/>"
   ]
  },
  {
   "cell_type": "markdown",
   "metadata": {},
   "source": [
    "p(V) (\"peak height\") = _____________\n",
    "\n",
    "V (leftmost value) = ___________\n",
    "\n",
    "V(location of peak) = ____________\n",
    "\n",
    "V (rightmost value) = __________"
   ]
  },
  {
   "cell_type": "markdown",
   "metadata": {},
   "source": [
    "**Standard uncertainty** associated with reading the scale on the voltmeter: ________ volts"
   ]
  },
  {
   "cell_type": "markdown",
   "metadata": {},
   "source": [
    "Say that you are told that the voltmeter has a “rated accuracy” of 2%. This means that the\n",
    "uncertainty associated with the calibration of the meter is 2% of the reading shown.\n",
    "\n",
    "Determine the standard uncertainty associated with the **rating** of the voltmeter."
   ]
  },
  {
   "cell_type": "markdown",
   "metadata": {},
   "source": [
    "Standard uncertainty associated with the rating of the voltmeter: __________ volts"
   ]
  },
  {
   "cell_type": "markdown",
   "metadata": {},
   "source": [
    "The total uncertainty for the measurement of the voltage is then given by combining all the uncertainties. You don’t just add them up, but combine them in the following way:\n",
    "\n",
    "Total uncertainty = $\\sqrt{u^2_{scale} + u^2_{cal}}$\n",
    "\n",
    "where: $u_{scale}$ is the uncertainty associated with the reading the scale, and $u_{cal}$ is the uncertainty associated with the rating of the meter.\n",
    "\n",
    "Any number of uncertainties contributing to the total uncertainty in a measurement can be combined in this way.\n",
    "\n",
    "Calculate the **combined standard uncertainty** for your measurement of the voltage of the battery.\n",
    "\n"
   ]
  },
  {
   "cell_type": "markdown",
   "metadata": {},
   "source": [
    "Combined standard uncertainty = ____________ volts."
   ]
  },
  {
   "cell_type": "code",
   "execution_count": null,
   "metadata": {},
   "outputs": [],
   "source": []
  }
 ],
 "metadata": {
  "kernelspec": {
   "display_name": "Python 3",
   "language": "python",
   "name": "python3"
  },
  "language_info": {
   "codemirror_mode": {
    "name": "ipython",
    "version": 3
   },
   "file_extension": ".py",
   "mimetype": "text/x-python",
   "name": "python",
   "nbconvert_exporter": "python",
   "pygments_lexer": "ipython3",
   "version": "3.7.12"
  }
 },
 "nbformat": 4,
 "nbformat_minor": 2
}
