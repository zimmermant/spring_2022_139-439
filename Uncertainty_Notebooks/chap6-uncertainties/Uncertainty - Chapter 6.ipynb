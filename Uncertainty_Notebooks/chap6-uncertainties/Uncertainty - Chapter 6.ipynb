{
 "cells": [
  {
   "cell_type": "markdown",
   "metadata": {},
   "source": [
    "<div class=\"alert alert-block alert-info\">**If the difference between n and n-1 ever matters to you, then you are probably up to no good - e.g. trying to substantiate a questionable hypothesis with marginal data**</div>\n",
    "\n",
    "        - from Press, W., Teukolsky, S., Vetterline, W. T., & Flannery, B. P. (2007). Numerical Recipes: The Art of Scientific Computing.\n"
   ]
  },
  {
   "cell_type": "markdown",
   "metadata": {},
   "source": [
    "# 6 Evaluations of uncertainty: a practical example\n",
    "\n",
    "In this chapter you will do an experiment to measure the speed of sound in air and use the opportunity to further develop your understanding about measurement and uncertainty.\n",
    "\n",
    "\n",
    "## 6.1 The speed of sound experiment\n",
    "\n",
    "Say that you have just returned from doing an experiment on a sports field. A starter’s pistol (used to start races at athletic meetings) was fired several times, and each time a large group of students used stopwatches to record the time between hearing the original bang and the echo after the sound reflected back from a wall which was about 80 metres away. In this way a large number of readings for the time $t$ were collected. The distance $d$ was measured once by a smaller group of students using a measuring tape.\n",
    "\n",
    "\n",
    "<img src=\"C6-Fig1.png\" style=\"width: 600px;\"/>\n",
    "\n",
    "The aim of the experiment is to measure the speed of the sound in air vs which may be calculated by $v_s = 2d t$ . In order to know something about $v_s$ , we first need to analyse our data for $t$ and $d$ separately.\n",
    "\n",
    "## 6.1 Analyzing the time data\n",
    "\n",
    "A set of data for $t$ which were taken by a previous class is given below so that we can all work with the same values. This data can be loaded from the file ```speed_of_sound_time_data.csv``` (The .csv extension means the file contains comma separated values, a file format that is easy for Python to read)\n",
    "\n",
    "<img src=\"C6-Fig2.png\" style=\"width: 600px;\"/>\n",
    "\n",
    "It is clear just by looking at Table 6.1 that the time readings are dispersed. Why do you think this is so? What are the possible causes of the scatter?  Enter your answer in the cell below by replacing the text between the quote symbols with your answer."
   ]
  },
  {
   "cell_type": "code",
   "execution_count": null,
   "metadata": {},
   "outputs": [],
   "source": [
    "print(\"Insert your answer between the quote symbols here\")"
   ]
  },
  {
   "cell_type": "markdown",
   "metadata": {},
   "source": [
    "We need to import the data file to analyze the data.  Make sure that the file ```speed_of_sound_time_data.csv``` is in the same directory as this Jupyter notebook.  We will create a variable named ```time_data``` to store the data read from the file.\n",
    "\n",
    "We need to import a set of commands called ```pandas``` (which stands for **pa**nel **da**ta **s**ets) to help us manipulate and plot the data.\n",
    "\n",
    "Hit <kbd>Shift</kbd>+<kbd>Enter</kbd> to import the data.\n"
   ]
  },
  {
   "cell_type": "code",
   "execution_count": null,
   "metadata": {},
   "outputs": [],
   "source": [
    "%matplotlib inline  \n",
    "#Used to show plots and graphs in the notebook\n",
    "\n",
    "import pandas as pd  #Import all of the function in pandas\n",
    "\n",
    "time_data=pd.read_csv('speed_of_sound_time_data.csv')   #Read in the data file\n",
    "\n",
    "print(time_data)  #Print out the data to make sure everything imported ok"
   ]
  },
  {
   "cell_type": "markdown",
   "metadata": {},
   "source": [
    "We want to create a histogram of the data to see where the center of the distribution is (the mean or average value) and to see how spread out the data is (the standard deviation).  Our data is stored in a variable named ```time_data``` and we only want to look at the ```Times``` so our command will start with ```time_data.Times```.  We want to create a ```plot``` and the type of plot we want to create is a histogram or a ```hist```.  A histogram divides the total data up into several ranges (each called a bin) and counts how many values falls within each range or bin.  The plot shows how many of your measurements falls into each range or bin.  Right now we are dividing our data into two bins, one from 0.2 seconds to 0.5 seconds, and another bin from 0.5 seconds to 0.9 seconds.  There are roughly 26 measurements in the first range and 22 measurements in the second range. "
   ]
  },
  {
   "cell_type": "code",
   "execution_count": null,
   "metadata": {},
   "outputs": [],
   "source": [
    "time_data.Times.plot.hist(2)"
   ]
  },
  {
   "cell_type": "markdown",
   "metadata": {},
   "source": [
    "With only two bins, we don't get a useful distribution - it is hard to tell if the data is distributed like a gaussian function.  Try changing the number of bins from 2 to something larger in the cell above.  Find a value that allows you to see that the data is in fact gaussian.  **Estimate** the average value (what you would report as the best value for the measurement) and the experimental standard deviation of the mean from the histogram.  Enter your answer in the cell below."
   ]
  },
  {
   "cell_type": "code",
   "execution_count": null,
   "metadata": {},
   "outputs": [],
   "source": [
    "t_avg =  #Enter your estimate for the best value you would report for the time\n",
    "std_t =   #Enter your estimate for the experimental standard deviation\n",
    "\n",
    "print(\"You think that the average time is \", t_avg,\" seconds and the standard deviation of the mean of the measurement is \",std_t,\"seconds\")"
   ]
  },
  {
   "cell_type": "markdown",
   "metadata": {},
   "source": [
    "Look at the shape of your histogram. It is reasonable to believe that from the way that the data are dispersed, we can model our knowledge about the time t with a Gaussian probability density function. The relative frequency is related to the probability p(t) of obtaining a reading of t between two values. As the number of readings in each bin approaches infinity and the width of the bins approaches zero, the relative frequency approaches this probability.\n",
    "\n",
    "Since we have chosen a Gaussian pdf to model what we know about the data (i.e. that they are dispersed in a particular way), the best approximation of the measurand (in this case the time) is given by the mean of the data $\\bar{t}$ and the standard uncertainty associated with the scatter in the data is given by the experimental standard deviation of the mean $s (\\bar{t} )$ , \n",
    "\n",
    "$$\\bar{t}=\\frac{1}{N}\\sum\\limits_{i=1}^N t_i $$\n",
    "\n",
    "where $N$ is the number of measurements.  The standard deviation of the measurements $s(t)$ is calculated from \n",
    "\n",
    "$$ s(t) = \\sqrt{\\frac{\\sum\\limits_{i=1}^N (t_i-\\bar{t})^2}{N-1}}$$\n",
    "\n",
    "The standard deviation of the **measurements** tell us how spread out the measurements are.  What we want to report is the uncertainty (or standard deviation) of the **mean** $s(\\bar{t})$.\n",
    "\n",
    "The **standard uncertainty of the mean** associated with the dispersion in the data is given by the **experimental standard deviation of the measurements** divided by $\\sqrt{N}$.\n",
    "\n",
    "$$s(\\bar{t}) = \\frac{s(t)}{\\sqrt{N}}$$\n",
    "\n",
    "Combining the two equations gives \n",
    "\n",
    "$$s(\\bar{t}) = \\sqrt{\\frac{\\sum\\limits_{i=1}^N (t_i-\\bar{t})^2}{N(N-1)}}$$\n",
    "\n",
    "It is appropriate to use the formulae for $\\bar{t}$ and $s(\\bar{t})$ in this case because we have chosen a Gaussian probability density function to model what we know about the measurand. The best approximation of the time is associated with the midpoint of the Gaussian and the scatter is described by the average width of the Gaussian. The more dispersed (scattered) the data are, the broader the Gaussian pdf will be.\n",
    "\n",
    "To determine the average value and standard uncertainty of the measurements, use the ```.describe()``` command.  Since we want the data set we named ```time_data``` and we are only intersted in the ```Times``` data, the command is ```time_data.Times.describe()```\n",
    "\n",
    "Hit <kbd>Shift</kbd> + <kbd>Enter</kbd> to evaluate the cell below."
   ]
  },
  {
   "cell_type": "code",
   "execution_count": null,
   "metadata": {},
   "outputs": [],
   "source": [
    "time_data.Times.describe()"
   ]
  },
  {
   "cell_type": "markdown",
   "metadata": {},
   "source": [
    "How does the mean and standard deviation of the measurements (std) compare to your estimates above?  Enter your answer in the cell below."
   ]
  },
  {
   "cell_type": "code",
   "execution_count": null,
   "metadata": {},
   "outputs": [],
   "source": [
    "print(\"Here is how my estimates compare to the calculated values\")"
   ]
  },
  {
   "cell_type": "markdown",
   "metadata": {},
   "source": [
    "The standard deviation above is the spread of the measurements and not the spread of the possible values the **mean**.  The standard deviation of the mean is $s(\\bar{t}) = \\frac{s(t)}{\\sqrt{N}}$.\n",
    "\n",
    "Enter the value for ```std``` after the equals sign in line 3 below and then hit <kbd>Shift</kbd> + <kbd>Enter</kbd> to evaluate the cell."
   ]
  },
  {
   "cell_type": "code",
   "execution_count": null,
   "metadata": {},
   "outputs": [],
   "source": [
    "from math import sqrt  #The squareroot function is not part of plain Python and needs to be imported to use\n",
    "\n",
    "std_t_measurement =   #Enter the value for std after the equals sign\n",
    "N = 49    #The number of data points\n",
    "\n",
    "std_t_mean = std_t_measurement/sqrt(N)\n",
    "\n",
    "print(\"The standard deviation of the mean is \", std_t_mean)"
   ]
  },
  {
   "cell_type": "markdown",
   "metadata": {},
   "source": [
    "To finish up this part of the activity, report out your results.  Enter the mean value for t and the standard uncertainty calculated in the cell above then hit <kbd>Shift</kbd> + <kbd>Enter</kbd> to evaluate the cell."
   ]
  },
  {
   "cell_type": "code",
   "execution_count": null,
   "metadata": {},
   "outputs": [],
   "source": [
    "t_mean =     #Enter the mean value after the equals sign\n",
    "t_uncert =   #Enter the standard deviation of the mean calculated in the previous cell here\n",
    "\n",
    "print(\"We can infer that the best approximation of the time t is \", t_mean,\"seconds with a standard uncertainty of \", t_uncert,\" seconds.\")"
   ]
  },
  {
   "cell_type": "markdown",
   "metadata": {},
   "source": [
    "We have completed a **Type A evaluation** of the standard uncertainty for the time t since we have used statistical considerations (i.e. the two formulae above) in our analysis of the set of data for t . Note that there might be other sources of uncertainty in our measurement of t, such as the uncertainty related to calibration of the stopwatch which we could estimate using a Type B evaluation. However, in most cases where we observe a scatter in repeated readings, the uncertainty calculated using a Type A evaluation will usually be the largest.\n",
    "\n",
    "## 6.3 Analyzing the distance data\n",
    "\n",
    "The single reading of the distance d was observed to be  337.851 metres (using the measuring tape).\n",
    "\n",
    "Since we only have a **single reading** for d we undertake a **Type B evaluation** of $u(d)$.\n",
    "\n",
    "What can we say about the distance d? We can model our knowledge about d using a triangular pdf. The group who made the distance measurement were also asked to estimate $a_−$ and $a_+$ , by asking themselves, “What is the minimum value that we are 100% sure that d is not, and what is the maximum value that we are 100% sure that d is not?” \n",
    "\n",
    "The probability distribution function (pdf) for this measurement is shown below.\n",
    "\n",
    "<img src=\"C6-Fig3.png\" style=\"width: 9000px;\"/>\n",
    "\n",
    "Calculate the peak value of the probability distribution function $p(d)$.  The area of a triangle is $\\frac{1}{2} base \\cdot height$ and the total area of the distribution function must be 1 (why must the total value equal 1?)\n",
    "\n",
    "Enter your value for $p(d)$ in the cell below.  Feel free to calculate the value in the cell below rather than using your calculator."
   ]
  },
  {
   "cell_type": "code",
   "execution_count": null,
   "metadata": {},
   "outputs": [],
   "source": [
    "# Calculate p(d)\n",
    "#Use the variable peak_value to represent p(d)\n",
    "\n",
    "\n",
    "peak_value =    #Enter your final answer for the peak value here\n",
    "print(\"The peak value of the probability distribution function is \", peak_value)"
   ]
  },
  {
   "cell_type": "markdown",
   "metadata": {},
   "source": [
    "Since we are assuming a triangular distribution function for this measurement, find the standard uncertainty for the distance measurement (call it u_dist).  You will need to go back to chapter 4 in our measurements packet to answer this question.\n",
    "\n",
    "Perform any calculations needed in the cell below."
   ]
  },
  {
   "cell_type": "code",
   "execution_count": null,
   "metadata": {},
   "outputs": [],
   "source": [
    "dist = 337.85   #Measured distance in meters\n",
    "\n",
    "# Calculate u_dist here.  Name the variable u_dist\n",
    "\n",
    "\n",
    "\n",
    "u_dist=    #Enter your final calculated value for u_dist here\n",
    "print(\"Therefore the best approximation of the distance d is \", dist,\" meters with a standard uncertainty of\",u_dist,\" meters.\")"
   ]
  },
  {
   "cell_type": "markdown",
   "metadata": {},
   "source": [
    "## 6.4 The final result for the speed of sound $v_s$\n",
    "\n",
    "\n",
    "We now have information about the time t and the distance d , and want to say something about the speed of sound, vs which is related to t and d by $v_s = 2d/t$.\n",
    "\n",
    "Using the best approximations for d and t , the best approximation of vs = ?\n"
   ]
  },
  {
   "cell_type": "code",
   "execution_count": null,
   "metadata": {},
   "outputs": [],
   "source": [
    "# Calculate vs here\n",
    "\n",
    "\n",
    "vs=  #Enter your value for vs here   \n",
    "print(\"the best approximation of vs =\",vs, \"m/s\")"
   ]
  },
  {
   "cell_type": "markdown",
   "metadata": {},
   "source": [
    "What about the uncertainty in $v_s$?\n",
    "\n",
    "Well, we have a standard uncertainty for t and a standard uncertainty for d, and need to use these to determine the standard uncertainty in $v_s$.\n",
    "\n",
    "However, you first need to understand something about “propagation of uncertainties” which is dealt with in the next chapter.\n",
    "\n",
    "You will therefore only complete section 6.5 after you have read chapter 7."
   ]
  },
  {
   "cell_type": "markdown",
   "metadata": {},
   "source": [
    "## 6.5 Completing the analysis of the final result for the speed of sound $v_s$\n",
    "\n",
    "**Do not complete until after you have finished Chapter 7**\n",
    "\n",
    "In order to calculate u(vs ) we use the equations from chapter 7\n",
    "\n",
    "which gives u(vs ) = ____________________ m/s\n",
    "\n",
    "Therefore vs = __________ ± __________ m/s.\n",
    "\n",
    "\n",
    "This is our final result for the speed of sound in air as measured in this experiment.\n",
    "\n",
    "Enter your calculations for vs and u(vs) (which we will call u_vel) in the cell below.  Perform all calculations in the cell and not on your calculator."
   ]
  },
  {
   "cell_type": "code",
   "execution_count": null,
   "metadata": {},
   "outputs": [],
   "source": [
    "# Calculations for vs and u_vel\n",
    "\n",
    "vs=  #Enter the calculated value for vs\n",
    "u_vel=   #Enter the calculated value for u_vel\n",
    "\n",
    "print(\"The best approximate value for the speed of sound is \", vs, \"plus or minus \", u_vel, \"m/s.\")"
   ]
  },
  {
   "cell_type": "markdown",
   "metadata": {},
   "source": [
    "<img src=\"C6-Fig4.png\" style=\"width: 600px;\"/>"
   ]
  }
 ],
 "metadata": {
  "kernelspec": {
   "display_name": "Python 3",
   "language": "python",
   "name": "python3"
  },
  "language_info": {
   "codemirror_mode": {
    "name": "ipython",
    "version": 3
   },
   "file_extension": ".py",
   "mimetype": "text/x-python",
   "name": "python",
   "nbconvert_exporter": "python",
   "pygments_lexer": "ipython3",
   "version": "3.7.12"
  }
 },
 "nbformat": 4,
 "nbformat_minor": 2
}
