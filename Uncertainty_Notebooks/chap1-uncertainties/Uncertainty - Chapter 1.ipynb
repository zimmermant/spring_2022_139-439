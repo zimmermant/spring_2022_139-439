{
 "cells": [
  {
   "cell_type": "markdown",
   "metadata": {},
   "source": [
    "# 1 Introduction\n",
    "\n",
    "You arrive home after your first practical afternoon in the physics laboratory and say to your friend, “Today was the best day of my life ! I did a really interesting experiment in physics ! The fun part was comparing my measurements with those of the other students in the class.” Your friend looks puzzled and asks...\n",
    "\n",
    "<img src=\"C1-Fig1.png\" style=\"width: 600px;\"/>\n",
    "\n",
    "What do you say to your friend? Type your answer below."
   ]
  },
  {
   "cell_type": "markdown",
   "metadata": {},
   "source": []
  },
  {
   "cell_type": "markdown",
   "metadata": {},
   "source": [
    "Your friend wants to find out more, and asks, “What do you mean by a ‘measurement’ ?” What explanation do you give to your friend?  Type your answer below."
   ]
  },
  {
   "cell_type": "markdown",
   "metadata": {},
   "source": []
  },
  {
   "cell_type": "markdown",
   "metadata": {},
   "source": [
    "## 1.1 Thinking about measurement\n",
    " You may now have concluded that the concept of a measurement is not entirely straightforward. Let us explore some of the elements that make up a measurement.\n",
    " \n",
    "Imagine that you are given a digital bathroom scale and told that we need to know your mass as accurately as possible. You stand on the scale and it indicates 77.5 kg. The following discussion takes place between you and your friends:\n",
    "\n",
    "**A** Good ! Your mass is 77.5 kg.\n",
    "    \n",
    "**B** That is not your mass. You can only know your mass if you first take off all your clothes.\n",
    "    \n",
    "**C** That will not help either as it all depends on whether you have eaten or not. You cannot find your mass after a large meal.\n",
    "    \n",
    "**D** It depends on what you want.\n",
    "    \n",
    "With whom do you most closely agree? Explain your choice below."
   ]
  },
  {
   "cell_type": "markdown",
   "metadata": {},
   "source": []
  },
  {
   "cell_type": "markdown",
   "metadata": {},
   "source": [
    "It is clear that whatever it is we want to measure must be clearly defined. We refer to what we want to measure as the **measurand**. Although the measurand in the example above is a “mass” it is not well specified.\n",
    "\n",
    "What is the measurand in the situation described above?"
   ]
  },
  {
   "cell_type": "markdown",
   "metadata": {},
   "source": []
  },
  {
   "cell_type": "markdown",
   "metadata": {},
   "source": [
    "<img src=\"C1-Fig2.png\" style=\"width: 600px;\"/>\n",
    "\n",
    "---\n",
    "\n",
    "Imagine that you (and the rest of the physics class) are stranded on the island called Nometresticks where all memories of known measuring systems have been erased. Take a pen and try to tell each other in your group what the length of the pen is without using known units. All of you must use the same pen, of course, for this exercise. Write down what you said to the rest of the group."
   ]
  },
  {
   "cell_type": "markdown",
   "metadata": {},
   "source": []
  },
  {
   "cell_type": "markdown",
   "metadata": {},
   "source": [
    "You now come up with the bright idea of creating a scale using the width of your thumb. On the “ruler” below, mark out units of <u>your</u> thumb (Th).\n",
    "\n",
    "Each member of your group should get out a sheet of paper and mark out a thumb ruler using your own thumb, similar to what you see below.\n",
    "\n",
    "<img src=\"C1-Fig3.png\" style=\"width: 600px;\"/>\n",
    "\n",
    "---\n",
    "\n",
    "You have created a thumb-rule ! (Not to be confused with a “rule of thumb”!)\n",
    "\n",
    "Use your thumb-rule to measure the length of the pen in units of your thumb, estimating fractions of a thumb as best you can. Each person in the group should do the same using their own thumb-rule.\n",
    "Th\n",
    "    \n",
    "Double-click the cell below and enter the values you measure for the pen length:\n"
   ]
  },
  {
   "cell_type": "markdown",
   "metadata": {},
   "source": [
    "**[Measurement M1]**\n",
    "\n",
    "Student 1: Length of pen (in Thumbs): _____________ Th \n",
    "\n",
    "Student 2: Length of pen (in Thumbs): _____________ Th \n",
    "\n",
    "Student 3: Length of pen (in Thumbs): _____________ Th"
   ]
  },
  {
   "cell_type": "markdown",
   "metadata": {},
   "source": [
    "<img src=\"C1-Fig4.png\" style=\"width: 600px;\"/>\n",
    "\n",
    "Are all 3 values for the length of the pen recorded for M1 above the same ? If they are not all the same, what do you think is the main reason that they differ?"
   ]
  },
  {
   "cell_type": "markdown",
   "metadata": {},
   "source": []
  },
  {
   "cell_type": "markdown",
   "metadata": {},
   "source": [
    "Clearly each measurement was based on a slightly different scale depending on how wide each thumb is, i.e. you each used your own personal standard. We therefore need to agree on a <u>common standard</u> if we are going to compare our measurements meaningfully. You might think that the most democratic way to do this is to have endless meetings between everyone in the class in order to agree on whose thumb width is the best to adopt. However, since we (the authors of this book) are in charge, we will simply decree that the standard thumb width will be the size shown below. This will be our standard reference thumb. The thumb-rule below is calibrated in units of the standard thumb.\n",
    "\n",
    "<img src=\"C1-Fig3.png\" style=\"width: 600px;\"/>\n",
    "\n",
    "Use the standard thumb-rule above to measure the length of the pen, estimating fractions of a thumb as best you can. Each person in your group should carry out the exercise without assistance from the others.  Double-click the cell below and enter the values."
   ]
  },
  {
   "cell_type": "markdown",
   "metadata": {},
   "source": [
    "**[Measurement M2]**\n",
    "\n",
    "Student 1: Length of pen (in Thumbs): _____________ Th \n",
    "\n",
    "Student 2: Length of pen (in Thumbs): _____________ Th\n",
    "\n",
    "Student 3: Length of pen (in Thumbs): _____________ Th"
   ]
  },
  {
   "cell_type": "markdown",
   "metadata": {},
   "source": [
    "Compare your readings for M2 with those for M1. Which do you think are better and why?"
   ]
  },
  {
   "cell_type": "markdown",
   "metadata": {},
   "source": []
  },
  {
   "cell_type": "markdown",
   "metadata": {},
   "source": [
    "<img src=\"C1-Fig5.png\" style=\"width: 600px;\"/>\n",
    "\n",
    "\n",
    "Can you think of any type of measurement that does <u>not</u> involve a comparison ?\n",
    "\n",
    "---\n",
    "\n",
    "What do you think is the main reason that all the readings in M2 are not exactly the same?\n"
   ]
  },
  {
   "cell_type": "markdown",
   "metadata": {},
   "source": []
  },
  {
   "cell_type": "markdown",
   "metadata": {},
   "source": [
    "What do you think can be done in order to improve the agreement?"
   ]
  },
  {
   "cell_type": "markdown",
   "metadata": {},
   "source": []
  },
  {
   "cell_type": "markdown",
   "metadata": {},
   "source": [
    "The differences in our readings can be explained by the fact that each of you has judged things slightly differently. One way to reduce the effect of this is to calibrate the scale using finer gradations as shown below where each thumb is divided into ten, i.e. we have a scale calibrated in “deci-thumbs”.\n",
    "\n",
    "<img src=\"C1-Fig6.png\" style=\"width: 600px;\"/>\n",
    "\n",
    "Measure the length of the pen, estimating fractions of a centithumb as best you can. Each person in your group should carry out the exercise without assistance from the others.  Double-click the cell below and enter values for each student.\n"
   ]
  },
  {
   "cell_type": "markdown",
   "metadata": {},
   "source": [
    "**[Measurement M3]**\n",
    "\n",
    "Student 1: Length of pen (in Thumbs): _____________ Th  \n",
    "\n",
    "Student 2: Length of pen (in Thumbs): _____________ Th\n",
    "\n",
    "Student 3: Length of pen (in Thumbs): _____________ Th\n",
    "\n",
    "Are all 3 values for M3 the same, or do they differ? _____________"
   ]
  },
  {
   "cell_type": "markdown",
   "metadata": {},
   "source": [
    "If the 3 values differ, discuss whether you think it will help to divide the scale into centithumbs. If the 3 values are the same, what do you think will happen if we use a centithumb rule?"
   ]
  },
  {
   "cell_type": "markdown",
   "metadata": {},
   "source": []
  },
  {
   "cell_type": "markdown",
   "metadata": {},
   "source": [
    "How many of these subdivisions do you think are possible?"
   ]
  },
  {
   "cell_type": "markdown",
   "metadata": {},
   "source": []
  },
  {
   "cell_type": "markdown",
   "metadata": {},
   "source": [
    "Do you think that you could ever measure the “true” length of the pen this way?\n",
    "Can you think of a way to determine this? What about “going digital”?"
   ]
  },
  {
   "cell_type": "code",
   "execution_count": null,
   "metadata": {},
   "outputs": [],
   "source": []
  },
  {
   "cell_type": "markdown",
   "metadata": {},
   "source": [
    "In the next chapter we will explore more of these issues.\n",
    "\n",
    "A note about units: Specifying the units of a measurement is a way of referring to the reference standard that is being used. The SI system of units is one of the most commonly used. In this system, the metre is the reference standard for length.\n",
    "\n",
    "<u>No</u> measurement is meaningful without specifying the units you are using.\n",
    "\n",
    "<img src=\"C1-Fig7.png\" style=\"width: 600px;\"/>\n",
    "\n",
    "Do you know the origin of the “standard” metre that we use today?\n",
    "\n",
    "---\n",
    "\n",
    "## 1.2 Limits to what we know from a measurement\n",
    "\n",
    " Think about the following example:\n",
    " \n",
    "During the vacation you are helping a scientist work in her chemistry laboratory. She says that she is doing a very important experiment and needs to weigh the chemical powder that is produced from a particular chemical reaction. She chooses to use a mechanical chemical balance which relies on known calibrated masses.\n",
    "\n",
    "The powder is placed in the left hand pan and three 1.0 g calibrated masses are placed in the right hand pan. What you see is shown alongside.  <img src=\"C1-Fig8.png\" style=\"width: 600px;\"/>\n",
    "\n",
    "Clearly the powder weighs more than 3.0 g.\n",
    "\n",
    "When a fourth 1.0 g mass is added, the balance tips over to the right: <img src=\"C1-Fig9.png\" style=\"width: 600px;\"/>\n",
    "\n",
    "What can you say about the mass of the powder?\n"
   ]
  },
  {
   "cell_type": "markdown",
   "metadata": {},
   "source": []
  },
  {
   "cell_type": "markdown",
   "metadata": {},
   "source": [
    "One of the 1.0 g masses is removed and the chemist starts carefully adding 0.1 g masses to the pan. After adding two of the 0.1 g masses, the balance is still leaning to the left.\n",
    "\n",
    "<img src=\"C1-Fig10.png\" style=\"width: 600px;\"/>\n",
    "\n",
    "When a third 0.1 g mass is added, the balance once again leans to the right.\n",
    "\n",
    "<img src=\"C1-Fig11.png\" style=\"width: 600px;\"/>\n",
    "\n",
    "What can you say at this stage about the mass of the chemical powder?\n"
   ]
  },
  {
   "cell_type": "markdown",
   "metadata": {},
   "source": []
  },
  {
   "cell_type": "markdown",
   "metadata": {},
   "source": [
    "What can the chemist do now? She doesn’t have calibrated masses that are smaller than 0.1 g.\n",
    "\n",
    "There is a limit to the knowledge that the chemist has about the mass of the powder. All we can say is that the mass of the powder is between 3.2 g and 3.3 g. Even if we use smaller and smaller calibrated masses (0.01 g, 0.001 g, ...) our knowledge about the mass of the powder will never be perfect (unless we go on forever!).\n",
    "\n",
    "---\n",
    "\n",
    "## 1.3 Purposes of measurement\n",
    "\n",
    "Imagine that you are baking a cake with some friends in your kitchen.\n",
    "\n",
    "The recipe says “add 50 grams of sugar”. You put some sugar on your kitchen scale and the display reads 52.0 g.\n",
    "\n",
    "The following discussion takes place between you and your friends:\n",
    "\n",
    "**A** I think that it is OK.\n",
    "\n",
    "**B** I think that it is not OK. We have to measure again.\n",
    "\n",
    "**C** I think that it is not OK. We have to take out 2 grams of sugar.\n",
    "\n",
    "With whom do you most closely agree?\n",
    "\n",
    "Explain your choice carefully."
   ]
  },
  {
   "cell_type": "markdown",
   "metadata": {},
   "source": []
  },
  {
   "cell_type": "markdown",
   "metadata": {},
   "source": [
    "Imagine now that you are now working with your friends in the chemistry laboratory at university. The experiment requires you to weigh out 50.0 grams of a particular chemical. You pour some of the chemical powder onto a chemical balance in the laboratory and the display reads 52.0 g.\n",
    "\n",
    "The following discussion takes place between you and your friends:\n",
    "\n",
    "**A** I think that it is OK.\n",
    "\n",
    "**B** I think that it is not OK. We have to measure again.\n",
    "\n",
    "**C** I think that it is not OK. We have to take out 2.0 g of the chemical.\n",
    "\n",
    "With whom do you most closely agree? Explain your choice carefully."
   ]
  },
  {
   "cell_type": "markdown",
   "metadata": {},
   "source": []
  },
  {
   "cell_type": "markdown",
   "metadata": {},
   "source": [
    "<img src=\"C1-Fig12.png\" style=\"width: 600px;\"/>\n",
    "\n",
    "If we go back to the exercise about measuring the pen we can see that what we wanted was to find out information about the pen, i.e. after the measurement we could answer the question, “What do we know about the length of the pen?”. However, in the two examples above, we argued about whether or not we were close to some specified reference. The questions in our minds here were, “Is this good enough for the purpose?” or “Are we close enough to the specification?” You will encounter both types of measurement in science. What is important in the scientific context is that whatever the reason for performing the measurements, the results must be recorded in the same way.\n",
    "\n",
    "Thus, in the first example above, if you were asked, “How much flour did you use”, you might say, “Oh, about 52 g”, or you may say. “Oh, exactly 52 g”. But what do we mean by these terms? Before we look into the formal ways of recording and communicating in science let us explore our own meanings of terms such as “approximate” and “exact”.\n",
    "\n",
    "---\n",
    "\n",
    "## 1.4 “Exactly approximate”\n",
    "\n",
    "Think about the following. You are in the laboratory using a scale to determine the masses of two blocks of wood. What you see on the scales is shown below:\n",
    "\n",
    "<img src=\"C1-Fig13.png\" style=\"width: 600px;\"/> \n",
    "\n",
    "The following discussion takes place between you and your friends concerning the left hand scale:\n",
    "\n",
    "**A** I think that the reading on the left hand scale is <u>exactly</u> 48.0 grams.\n",
    "\n",
    "**B** I think that the reading on the left hand scale is <u>approximately</u> 48.0 grams.\n",
    "\n",
    "**C** I don’t agree with either of you.\n",
    "\n",
    "With whom do you <u>most closely</u> agree ? Explain your choice carefully."
   ]
  },
  {
   "cell_type": "markdown",
   "metadata": {},
   "source": []
  },
  {
   "cell_type": "markdown",
   "metadata": {},
   "source": [
    "The following discussion takes place between you and your friends concerning the right hand scale:\n",
    "\n",
    "**A** I think that the reading on the right hand scale is <u>exactly</u> 48.0 grams.\n",
    "\n",
    "**B** I think that the reading on the right hand scale is <u>approximately</u> 48.0 grams.\n",
    "\n",
    "**C** I don’t agree with either of you.\n",
    "\n",
    "With whom do you <u>most closely</u> agree ? Explain your choice carefully.\n"
   ]
  },
  {
   "cell_type": "markdown",
   "metadata": {},
   "source": []
  },
  {
   "cell_type": "markdown",
   "metadata": {},
   "source": [
    "Compare your answers above for the two scales. Explain why they are the same or different."
   ]
  },
  {
   "cell_type": "markdown",
   "metadata": {},
   "source": []
  },
  {
   "cell_type": "markdown",
   "metadata": {},
   "source": [
    "Clearly the reading on the scale for Block One is exactly 48.0 g. However, does this\n",
    "mean that the mass of the block is exactly 48.0 g?\n",
    "\n",
    "The following discussion now takes place between you and your friends concerning Block One:\n",
    "\n",
    "**A** I think that the reading on the right hand scale is <u>exactly</u> 48.0 grams.\n",
    "\n",
    "**B** I think that the reading on the right hand scale is <u>approximately</u> 48.0 grams.\n",
    "\n",
    "**C** I don’t agree with either of you.\n",
    "\n",
    "With whom do you <u>most closely</u> agree ? Explain your choice carefully."
   ]
  },
  {
   "cell_type": "markdown",
   "metadata": {},
   "source": []
  },
  {
   "cell_type": "markdown",
   "metadata": {},
   "source": [
    "The lecturer comes along and wants to measure the mass of one of your blocks of wood. The lecturer puts the block on an electronic balance and the display of the balance shows:\n",
    "\n",
    "<img src=\"C1-Fig14.png\" style=\"width: 600px;\"/> \n",
    "\n",
    "The following discussion about the **reading** takes place:\n",
    "\n",
    "**A** I think that the reading on the right hand scale is <u>exactly</u> 48.8 grams.\n",
    "\n",
    "**B** I think that the reading on the right hand scale is <u>approximately</u> 48.8 grams.\n",
    "\n",
    "**C** I don’t agree with either of you.\n",
    "\n",
    "With whom do you <u>most closely</u> agree ? Explain your choice carefully.\n"
   ]
  },
  {
   "cell_type": "markdown",
   "metadata": {},
   "source": []
  },
  {
   "cell_type": "markdown",
   "metadata": {},
   "source": [
    "The discussion now turns to what we can say about the **mass of the block**.\n",
    "\n",
    "**A** I think that the reading on the right hand scale is <u>exactly</u> 48.8 grams.\n",
    "\n",
    "**B** I think that the reading on the right hand scale is <u>approximately</u> 48.8 grams.\n",
    "\n",
    "**C** I don’t agree with either of you.\n",
    "\n",
    "With whom do you <u>most closely</u> agree ? Explain your choice carefully."
   ]
  },
  {
   "cell_type": "markdown",
   "metadata": {},
   "source": []
  },
  {
   "cell_type": "markdown",
   "metadata": {},
   "source": [
    "The lecturer now changes the sensitivity on the balance and the display of the balance shows:\n",
    "\n",
    "<img src=\"C1-Fig15.png\" style=\"width: 600px;\"/> \n",
    "\n",
    "The following discussion about the **reading** takes place:\n",
    "\n",
    "**A** I think that the reading on the right hand scale is <u>exactly</u> 48.82 grams.\n",
    "\n",
    "**B** I think that the reading on the right hand scale is <u>approximately</u> 48.82 grams.\n",
    "\n",
    "**C** I don’t agree with either of you.\n",
    "\n",
    "With whom do you <u>most closely</u> agree ? Explain your choice carefully.\n",
    "\n"
   ]
  },
  {
   "cell_type": "markdown",
   "metadata": {},
   "source": []
  },
  {
   "cell_type": "markdown",
   "metadata": {},
   "source": [
    "The discussion now turns to what we can say about the **mass of the block**.\n",
    "\n",
    "**A** I think that the reading on the right hand scale is <u>exactly</u> 48.82 grams.\n",
    "\n",
    "**B** I think that the reading on the right hand scale is <u>approximately</u> 48.82 grams.\n",
    "\n",
    "**C** I don’t agree with either of you.\n",
    "\n",
    "With whom do you <u>most closely</u> agree ? Explain your choice carefully."
   ]
  },
  {
   "cell_type": "markdown",
   "metadata": {},
   "source": []
  },
  {
   "cell_type": "markdown",
   "metadata": {},
   "source": [
    "As you can see, the reading and the value of the measurand are not the same thing. Each reading provides some information about the measurand. This will become clearer later but for now it is important to note that this difference exists.\n",
    "\n",
    "<img src=\"C1-Fig16.png\" style=\"width: 600px;\"/> \n",
    "\n",
    "---\n",
    "\n",
    "## 1.5 Measurement in science\n",
    "\n",
    "The enterprise of scientific enquiry is about understanding the phenomena of nature, and therefore the main purpose of a measurement in science is to provide knowledge about a particular quantity. What constitutes valid and reliable scientific knowledge is not easy to define and this issue has been explored by scientists, philosophers and sociologists for as long as modern science has existed. For our purposes we can think of science as progressing along two separate but tightly interwoven fronts, namely theory and experiment. The purpose of a theory is to describe and explain the results of experiments and to make predictions about the outcomes of future experiments.\n",
    "On the other hand, experiments involve systematic observations of events under conditions that are controlled and understood as well as possible. Experiments involve making measurements of various quantities with the aim of providing the most trustworthy information possible. The quality of the data from an experiment depends critically on the design of the experiment, how carefully the procedures are carried out and how well all influences on the measurements are understood.\n",
    "\n",
    "There are well-defined concepts and procedures concerned with processing and reporting scientific measurements. For example, the concept of “work” in physics has a very particular meaning which is almost nothing to do with your everyday use of the word. Learning how to draw a force diagram is an important skill when learning mechanics. You will learn some very important ideas and procedures which are central to measurement in science. Some of the words that you will come across also have an “everyday” meaning, therefore you will need to be careful when thinking about the context within which these new ideas and procedures have particular significance.\n",
    "\n",
    "Since a key purpose of the scientific enterprise is concerned with gaining knowledge about a quantity, an important aspect of all experimental work involves deciding what measurements to take and identifying all the factors that could influence the measurement result. These factors which might be related to any aspect of the experiment (the environment, the skill of the experimenter, the instrument used, etc.) all work against obtaining the “perfect” result. During this course you will see how to incorporate these influences more formally into your analysis of the data from an experiment. You will come to understand that an important aspect of a scientific measurement is to reduce the effect of these factors on a measurement result, thereby improving your knowledge about the quantity you are measuring.\n",
    "\n",
    "<img src=\"C1-Fig17.png\" style=\"width: 600px;\"/> \n",
    "\n",
    "Write down next to each factor whether you think it affected the result in a small way or a large way."
   ]
  },
  {
   "cell_type": "markdown",
   "metadata": {},
   "source": []
  },
  {
   "cell_type": "markdown",
   "metadata": {},
   "source": [
    "Because of the central role that measurements play in science, engineering and technology, it is important that scientific measurements are analyzed and recorded in ways that are meaningful to all scientists. International standards bodies have been set up for such purposes and publish guidelines dealing with various aspects of terminology, accepted ways of reporting particular types of measurements, etc. Of interest to us are the guidelines of the International Organisation for Standardisation published in 1993 and 1995 with regard to the general way in which data are to be treated and measurement results reported. A large part of this course will therefore deal with aspects of **metrology**, the science of measurement."
   ]
  },
  {
   "cell_type": "code",
   "execution_count": null,
   "metadata": {},
   "outputs": [],
   "source": []
  }
 ],
 "metadata": {
  "kernelspec": {
   "display_name": "Python 3",
   "language": "python",
   "name": "python3"
  },
  "language_info": {
   "codemirror_mode": {
    "name": "ipython",
    "version": 3
   },
   "file_extension": ".py",
   "mimetype": "text/x-python",
   "name": "python",
   "nbconvert_exporter": "python",
   "pygments_lexer": "ipython3",
   "version": "3.7.4"
  }
 },
 "nbformat": 4,
 "nbformat_minor": 2
}
